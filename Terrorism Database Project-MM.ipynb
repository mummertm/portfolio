{
 "cells": [
  {
   "cell_type": "markdown",
   "metadata": {},
   "source": [
    "# Terrorism Data\n",
    "\n",
    "The structure of your project must include four components: exploratory data analysis, Bayesian inference to examine the the difference in incidences across the globe, a model to impute the missing values, and a brief description of your methods. \n",
    "\n",
    "\n",
    "### Part One: EDA\n",
    "\n",
    "You should gain an understanding of the attacks (focus on `attacktype1`), their distribution across the world, and their frequency.\n",
    "\n",
    "You will discover different things than your classmates on this portion. Your presentation should include compelling visualizations describing terror incidents around the world.\n",
    "\n",
    "You are **required** to produce at least one visualization that is indexed by time. For example, the number of bombings that occurred by year over time.\n",
    "\n",
    "\n",
    "### Part Two: Bayesian Inference\n",
    "\n",
    "Terror attacks are a ripe area of research for Bayesian inference. Given their infrequency, it is (thankfully) difficult for us to assume a high number of samples that approach some normal distribution.\n",
    "\n",
    "Because of this, we should construct a prior about the amount of terror a given area has seen and update that prior with new information (like a new year of attacks or a contrasting country from within the same region). \n",
    "\n",
    "You should compare two populations of your choosing using Bayesian inference. We want to know if the amount of terror one area has seen differs in a significant way than another area (or time period!)\n",
    "\n",
    "For example, if you are interested in knowing if one country in South America differs in a significant way from another area, you may make your prior  assume that some country is a country in South America with μ average attacks and σ variation across South American countries. You would then update that prior with the information of a single country in South America as well as a separate country in South America. How significantly do the resulting posteriors differ? (An important assumption made here is that the time periods are being held constant, perhaps a single year.)\n",
    "\n",
    "You should structure your own test of populations rather than using the above example. If you're unable to setup a different test, brainstorm with your squad in the Slack chat.\n",
    "\n",
    "You must justify the prior you selected and interpret your results (use credible intervals.) Remember you can attempt to use different priors (but don't \"prior hack\" to affect your output!)\n",
    "\n",
    "\n",
    "### Part Three: 1993\n",
    "\n",
    "The year 1993 is missing from our dataset! Given there is a wealth of information across different types of attacks, we will focus analysis on `attacktype1` bombings (category 3, as per the codebook)\n",
    "\n",
    "For this section, you should determine a methodology that allows you to best fill in the missing values. Perhaps you want to consider hemispheres to be separate models, for example. (That's the only hint you'll receive - and even that hint is not an optimal option.)\n",
    "\n",
    "Once you've created your methodology and imputed the number of bombings in 1993, you should feel free to apply your methodology to **OTHER** attack categories. (Bonus opportunity: turn your method into a pipeline. Use that pipeline to fill in other missing attack values.)\n",
    "\n",
    "\n",
    "### Part Four: Methods\n",
    "\n",
    "Please draft a max two page (or four pages double spaced) report discussing your methodology and findings. Visualizations may be included in an appendix.\n",
    "\n",
    "Your write-up should have two parts: the Bayesian test you constructed and the values you imputed for 1993 attacks.\n",
    "\n",
    "In your Bayesian inference section, be sure to defend your prior. Comment on your results of the differing populations.\n",
    "\n",
    "In your missing value imputation modelling portion, justify the model or tactic you used. Bear in mind simply averaging by hemisphere can, theoretically, be a solution. Err on the side of simple and elegant rather than complex to be complex.\n"
   ]
  },
  {
   "cell_type": "markdown",
   "metadata": {},
   "source": [
    "# Part One - EDA"
   ]
  },
  {
   "cell_type": "code",
   "execution_count": 120,
   "metadata": {},
   "outputs": [],
   "source": [
    "import pandas as pd\n",
    "from matplotlib import pyplot as plt\n",
    "import seaborn as sns\n",
    "import pymc3 as pm\n",
    "import numpy as np\n",
    "\n",
    "%matplotlib inline\n",
    "from statsmodels.tsa.stattools import adfuller\n"
   ]
  },
  {
   "cell_type": "code",
   "execution_count": 2,
   "metadata": {
    "collapsed": true
   },
   "outputs": [],
   "source": [
    "df = pd.read_csv('~/desktop/globalterrorism.csv', low_memory=False)"
   ]
  },
  {
   "cell_type": "code",
   "execution_count": 3,
   "metadata": {},
   "outputs": [
    {
     "data": {
      "text/html": [
       "<div>\n",
       "<table border=\"1\" class=\"dataframe\">\n",
       "  <thead>\n",
       "    <tr style=\"text-align: right;\">\n",
       "      <th></th>\n",
       "      <th>eventid</th>\n",
       "      <th>iyear</th>\n",
       "      <th>imonth</th>\n",
       "      <th>iday</th>\n",
       "      <th>approxdate</th>\n",
       "      <th>extended</th>\n",
       "      <th>resolution</th>\n",
       "      <th>country</th>\n",
       "      <th>country_txt</th>\n",
       "      <th>region</th>\n",
       "      <th>...</th>\n",
       "      <th>addnotes</th>\n",
       "      <th>scite1</th>\n",
       "      <th>scite2</th>\n",
       "      <th>scite3</th>\n",
       "      <th>dbsource</th>\n",
       "      <th>INT_LOG</th>\n",
       "      <th>INT_IDEO</th>\n",
       "      <th>INT_MISC</th>\n",
       "      <th>INT_ANY</th>\n",
       "      <th>related</th>\n",
       "    </tr>\n",
       "  </thead>\n",
       "  <tbody>\n",
       "    <tr>\n",
       "      <th>0</th>\n",
       "      <td>197000000001</td>\n",
       "      <td>1970</td>\n",
       "      <td>0</td>\n",
       "      <td>0</td>\n",
       "      <td>NaN</td>\n",
       "      <td>0</td>\n",
       "      <td>NaN</td>\n",
       "      <td>58</td>\n",
       "      <td>Dominican Republic</td>\n",
       "      <td>2</td>\n",
       "      <td>...</td>\n",
       "      <td>NaN</td>\n",
       "      <td>NaN</td>\n",
       "      <td>NaN</td>\n",
       "      <td>NaN</td>\n",
       "      <td>PGIS</td>\n",
       "      <td>0</td>\n",
       "      <td>0</td>\n",
       "      <td>0</td>\n",
       "      <td>0</td>\n",
       "      <td>NaN</td>\n",
       "    </tr>\n",
       "    <tr>\n",
       "      <th>1</th>\n",
       "      <td>197000000002</td>\n",
       "      <td>1970</td>\n",
       "      <td>0</td>\n",
       "      <td>0</td>\n",
       "      <td>NaN</td>\n",
       "      <td>0</td>\n",
       "      <td>NaN</td>\n",
       "      <td>130</td>\n",
       "      <td>Mexico</td>\n",
       "      <td>1</td>\n",
       "      <td>...</td>\n",
       "      <td>NaN</td>\n",
       "      <td>NaN</td>\n",
       "      <td>NaN</td>\n",
       "      <td>NaN</td>\n",
       "      <td>PGIS</td>\n",
       "      <td>0</td>\n",
       "      <td>1</td>\n",
       "      <td>1</td>\n",
       "      <td>1</td>\n",
       "      <td>NaN</td>\n",
       "    </tr>\n",
       "    <tr>\n",
       "      <th>2</th>\n",
       "      <td>197001000001</td>\n",
       "      <td>1970</td>\n",
       "      <td>1</td>\n",
       "      <td>0</td>\n",
       "      <td>NaN</td>\n",
       "      <td>0</td>\n",
       "      <td>NaN</td>\n",
       "      <td>160</td>\n",
       "      <td>Philippines</td>\n",
       "      <td>5</td>\n",
       "      <td>...</td>\n",
       "      <td>NaN</td>\n",
       "      <td>NaN</td>\n",
       "      <td>NaN</td>\n",
       "      <td>NaN</td>\n",
       "      <td>PGIS</td>\n",
       "      <td>-9</td>\n",
       "      <td>-9</td>\n",
       "      <td>1</td>\n",
       "      <td>1</td>\n",
       "      <td>NaN</td>\n",
       "    </tr>\n",
       "    <tr>\n",
       "      <th>3</th>\n",
       "      <td>197001000002</td>\n",
       "      <td>1970</td>\n",
       "      <td>1</td>\n",
       "      <td>0</td>\n",
       "      <td>NaN</td>\n",
       "      <td>0</td>\n",
       "      <td>NaN</td>\n",
       "      <td>78</td>\n",
       "      <td>Greece</td>\n",
       "      <td>8</td>\n",
       "      <td>...</td>\n",
       "      <td>NaN</td>\n",
       "      <td>NaN</td>\n",
       "      <td>NaN</td>\n",
       "      <td>NaN</td>\n",
       "      <td>PGIS</td>\n",
       "      <td>-9</td>\n",
       "      <td>-9</td>\n",
       "      <td>1</td>\n",
       "      <td>1</td>\n",
       "      <td>NaN</td>\n",
       "    </tr>\n",
       "    <tr>\n",
       "      <th>4</th>\n",
       "      <td>197001000003</td>\n",
       "      <td>1970</td>\n",
       "      <td>1</td>\n",
       "      <td>0</td>\n",
       "      <td>NaN</td>\n",
       "      <td>0</td>\n",
       "      <td>NaN</td>\n",
       "      <td>101</td>\n",
       "      <td>Japan</td>\n",
       "      <td>4</td>\n",
       "      <td>...</td>\n",
       "      <td>NaN</td>\n",
       "      <td>NaN</td>\n",
       "      <td>NaN</td>\n",
       "      <td>NaN</td>\n",
       "      <td>PGIS</td>\n",
       "      <td>-9</td>\n",
       "      <td>-9</td>\n",
       "      <td>1</td>\n",
       "      <td>1</td>\n",
       "      <td>NaN</td>\n",
       "    </tr>\n",
       "  </tbody>\n",
       "</table>\n",
       "<p>5 rows × 137 columns</p>\n",
       "</div>"
      ],
      "text/plain": [
       "        eventid  iyear  imonth  iday approxdate  extended resolution  country  \\\n",
       "0  197000000001   1970       0     0        NaN         0        NaN       58   \n",
       "1  197000000002   1970       0     0        NaN         0        NaN      130   \n",
       "2  197001000001   1970       1     0        NaN         0        NaN      160   \n",
       "3  197001000002   1970       1     0        NaN         0        NaN       78   \n",
       "4  197001000003   1970       1     0        NaN         0        NaN      101   \n",
       "\n",
       "          country_txt  region   ...    addnotes scite1 scite2  scite3  \\\n",
       "0  Dominican Republic       2   ...         NaN    NaN    NaN     NaN   \n",
       "1              Mexico       1   ...         NaN    NaN    NaN     NaN   \n",
       "2         Philippines       5   ...         NaN    NaN    NaN     NaN   \n",
       "3              Greece       8   ...         NaN    NaN    NaN     NaN   \n",
       "4               Japan       4   ...         NaN    NaN    NaN     NaN   \n",
       "\n",
       "   dbsource  INT_LOG  INT_IDEO INT_MISC INT_ANY  related  \n",
       "0      PGIS        0         0        0       0      NaN  \n",
       "1      PGIS        0         1        1       1      NaN  \n",
       "2      PGIS       -9        -9        1       1      NaN  \n",
       "3      PGIS       -9        -9        1       1      NaN  \n",
       "4      PGIS       -9        -9        1       1      NaN  \n",
       "\n",
       "[5 rows x 137 columns]"
      ]
     },
     "execution_count": 3,
     "metadata": {},
     "output_type": "execute_result"
    }
   ],
   "source": [
    "df.head()"
   ]
  },
  {
   "cell_type": "code",
   "execution_count": 4,
   "metadata": {},
   "outputs": [
    {
     "data": {
      "text/plain": [
       "(156772, 137)"
      ]
     },
     "execution_count": 4,
     "metadata": {},
     "output_type": "execute_result"
    }
   ],
   "source": [
    "df.shape"
   ]
  },
  {
   "cell_type": "code",
   "execution_count": 5,
   "metadata": {},
   "outputs": [
    {
     "data": {
      "text/plain": [
       "eventid                    0\n",
       "iyear                      0\n",
       "imonth                     0\n",
       "iday                       0\n",
       "approxdate            152016\n",
       "extended                   0\n",
       "resolution            153270\n",
       "country                    0\n",
       "country_txt                0\n",
       "region                     0\n",
       "region_txt                 0\n",
       "provstate              14520\n",
       "city                     446\n",
       "latitude                4519\n",
       "longitude               4519\n",
       "specificity                0\n",
       "vicinity                   0\n",
       "location              114561\n",
       "summary                66140\n",
       "crit1                      0\n",
       "crit2                      0\n",
       "crit3                      0\n",
       "doubtterr                  1\n",
       "alternative           132536\n",
       "alternative_txt            0\n",
       "multiple                   0\n",
       "success                    0\n",
       "suicide                    0\n",
       "attacktype1                0\n",
       "attacktype1_txt            0\n",
       "                       ...  \n",
       "propextent            100420\n",
       "propextent_txt             0\n",
       "propvalue             125460\n",
       "propcomment           107350\n",
       "ishostkid                178\n",
       "nhostkid              145504\n",
       "nhostkidus            145559\n",
       "nhours                153470\n",
       "ndays                 150190\n",
       "divert                156483\n",
       "kidhijcountry         153482\n",
       "ransom                 81680\n",
       "ransomamt             155577\n",
       "ransomamtus           156361\n",
       "ransompaid            156149\n",
       "ransompaidus          156370\n",
       "ransomnote            156351\n",
       "hostkidoutcome        148087\n",
       "hostkidoutcome_txt         0\n",
       "nreleased             148677\n",
       "addnotes              134848\n",
       "scite1                 66330\n",
       "scite2                 95611\n",
       "scite3                122640\n",
       "dbsource                   0\n",
       "INT_LOG                    0\n",
       "INT_IDEO                   0\n",
       "INT_MISC                   0\n",
       "INT_ANY                    0\n",
       "related               136350\n",
       "dtype: int64"
      ]
     },
     "execution_count": 5,
     "metadata": {},
     "output_type": "execute_result"
    }
   ],
   "source": [
    "df.isnull().sum()"
   ]
  },
  {
   "cell_type": "markdown",
   "metadata": {},
   "source": [
    "The first thing I should do is extract the date"
   ]
  },
  {
   "cell_type": "code",
   "execution_count": 6,
   "metadata": {},
   "outputs": [
    {
     "data": {
      "text/plain": [
       "0"
      ]
     },
     "execution_count": 6,
     "metadata": {},
     "output_type": "execute_result"
    }
   ],
   "source": [
    "df.iday.isnull().sum()"
   ]
  },
  {
   "cell_type": "code",
   "execution_count": 7,
   "metadata": {},
   "outputs": [
    {
     "data": {
      "text/plain": [
       "15    5571\n",
       "1     5540\n",
       "4     5334\n",
       "16    5319\n",
       "10    5294\n",
       "14    5251\n",
       "9     5247\n",
       "13    5246\n",
       "3     5202\n",
       "2     5193\n",
       "12    5171\n",
       "28    5164\n",
       "11    5155\n",
       "7     5150\n",
       "19    5133\n",
       "20    5132\n",
       "27    5109\n",
       "17    5107\n",
       "8     5043\n",
       "22    5037\n",
       "18    5036\n",
       "26    5021\n",
       "25    5021\n",
       "5     5005\n",
       "23    4981\n",
       "6     4956\n",
       "24    4944\n",
       "21    4894\n",
       "29    4700\n",
       "30    4308\n",
       "31    2614\n",
       "0      894\n",
       "Name: iday, dtype: int64"
      ]
     },
     "execution_count": 7,
     "metadata": {},
     "output_type": "execute_result"
    }
   ],
   "source": [
    "df.iday.value_counts()"
   ]
  },
  {
   "cell_type": "code",
   "execution_count": 8,
   "metadata": {},
   "outputs": [
    {
     "data": {
      "text/plain": [
       "0"
      ]
     },
     "execution_count": 8,
     "metadata": {},
     "output_type": "execute_result"
    }
   ],
   "source": [
    "df.imonth.isnull().sum()"
   ]
  },
  {
   "cell_type": "code",
   "execution_count": null,
   "metadata": {
    "collapsed": true
   },
   "outputs": [],
   "source": []
  },
  {
   "cell_type": "code",
   "execution_count": 9,
   "metadata": {},
   "outputs": [
    {
     "data": {
      "text/plain": [
       "0"
      ]
     },
     "execution_count": 9,
     "metadata": {},
     "output_type": "execute_result"
    }
   ],
   "source": [
    "df.iyear.isnull().sum()"
   ]
  },
  {
   "cell_type": "code",
   "execution_count": 10,
   "metadata": {
    "collapsed": true
   },
   "outputs": [],
   "source": [
    "df['imonth_fixed']= [str('0' + str(x)) if len(str(x))==1 else str(x) for x in df['imonth']]"
   ]
  },
  {
   "cell_type": "code",
   "execution_count": 11,
   "metadata": {
    "collapsed": true
   },
   "outputs": [],
   "source": [
    "df['imonth_fixed']= ['01' if x=='00' else x for x in df['imonth_fixed']]"
   ]
  },
  {
   "cell_type": "code",
   "execution_count": 12,
   "metadata": {
    "collapsed": true
   },
   "outputs": [],
   "source": [
    "df['imonth_fixed']= ['01' if x=='0' else x for x in df['imonth_fixed']]"
   ]
  },
  {
   "cell_type": "code",
   "execution_count": 13,
   "metadata": {
    "collapsed": true
   },
   "outputs": [],
   "source": [
    "df['idate_fixed']= [str('0' + str(x)) if len(str(x))==1 else str(x) for x in df['iday']]"
   ]
  },
  {
   "cell_type": "code",
   "execution_count": 14,
   "metadata": {
    "collapsed": true
   },
   "outputs": [],
   "source": [
    "df['idate_fixed']= ['01' if x=='00' else x for x in df['idate_fixed']]"
   ]
  },
  {
   "cell_type": "code",
   "execution_count": 15,
   "metadata": {
    "collapsed": true
   },
   "outputs": [],
   "source": [
    "df[\"date_combined\"] = df[\"iyear\"].map(str) + \"-\" + df[\"imonth_fixed\"].map(str) + \"-\" +df['idate_fixed'].map(str)"
   ]
  },
  {
   "cell_type": "code",
   "execution_count": 16,
   "metadata": {},
   "outputs": [
    {
     "data": {
      "text/plain": [
       "01    6434\n",
       "15    5571\n",
       "04    5334\n",
       "16    5319\n",
       "10    5294\n",
       "14    5251\n",
       "09    5247\n",
       "13    5246\n",
       "03    5202\n",
       "02    5193\n",
       "12    5171\n",
       "28    5164\n",
       "11    5155\n",
       "07    5150\n",
       "19    5133\n",
       "20    5132\n",
       "27    5109\n",
       "17    5107\n",
       "08    5043\n",
       "22    5037\n",
       "18    5036\n",
       "25    5021\n",
       "26    5021\n",
       "05    5005\n",
       "23    4981\n",
       "06    4956\n",
       "24    4944\n",
       "21    4894\n",
       "29    4700\n",
       "30    4308\n",
       "31    2614\n",
       "Name: idate_fixed, dtype: int64"
      ]
     },
     "execution_count": 16,
     "metadata": {},
     "output_type": "execute_result"
    }
   ],
   "source": [
    "df['idate_fixed'].value_counts()"
   ]
  },
  {
   "cell_type": "code",
   "execution_count": 17,
   "metadata": {
    "collapsed": true
   },
   "outputs": [],
   "source": [
    "df['date_combined']= pd.to_datetime(df['date_combined'], format='%Y-%m-%d')"
   ]
  },
  {
   "cell_type": "code",
   "execution_count": 18,
   "metadata": {
    "scrolled": true
   },
   "outputs": [
    {
     "data": {
      "text/plain": [
       "dtype('<M8[ns]')"
      ]
     },
     "execution_count": 18,
     "metadata": {},
     "output_type": "execute_result"
    }
   ],
   "source": [
    "df['date_combined'].dtype"
   ]
  },
  {
   "cell_type": "code",
   "execution_count": 99,
   "metadata": {},
   "outputs": [],
   "source": [
    "df = df.set_index('date_combined')"
   ]
  },
  {
   "cell_type": "code",
   "execution_count": 20,
   "metadata": {
    "collapsed": true
   },
   "outputs": [],
   "source": [
    "df.to_csv('~/desktop/terrorism.csv')"
   ]
  },
  {
   "cell_type": "code",
   "execution_count": null,
   "metadata": {},
   "outputs": [],
   "source": []
  },
  {
   "cell_type": "markdown",
   "metadata": {},
   "source": [
    "To get a basic idea of the data set, let's ask some questions"
   ]
  },
  {
   "cell_type": "code",
   "execution_count": 21,
   "metadata": {
    "collapsed": true
   },
   "outputs": [],
   "source": [
    "# How has the number of terror attacks increased over time?"
   ]
  },
  {
   "cell_type": "code",
   "execution_count": 98,
   "metadata": {},
   "outputs": [
    {
     "data": {
      "text/html": [
       "<div>\n",
       "<table border=\"1\" class=\"dataframe\">\n",
       "  <thead>\n",
       "    <tr style=\"text-align: right;\">\n",
       "      <th></th>\n",
       "      <th>eventid</th>\n",
       "      <th>iyear</th>\n",
       "      <th>imonth</th>\n",
       "      <th>iday</th>\n",
       "      <th>approxdate</th>\n",
       "      <th>extended</th>\n",
       "      <th>resolution</th>\n",
       "      <th>country</th>\n",
       "      <th>country_txt</th>\n",
       "      <th>region</th>\n",
       "      <th>...</th>\n",
       "      <th>scite3</th>\n",
       "      <th>dbsource</th>\n",
       "      <th>INT_LOG</th>\n",
       "      <th>INT_IDEO</th>\n",
       "      <th>INT_MISC</th>\n",
       "      <th>INT_ANY</th>\n",
       "      <th>related</th>\n",
       "      <th>imonth_fixed</th>\n",
       "      <th>idate_fixed</th>\n",
       "      <th>date_combined</th>\n",
       "    </tr>\n",
       "  </thead>\n",
       "  <tbody>\n",
       "    <tr>\n",
       "      <th>0</th>\n",
       "      <td>197000000001</td>\n",
       "      <td>1970</td>\n",
       "      <td>0</td>\n",
       "      <td>0</td>\n",
       "      <td>NaN</td>\n",
       "      <td>0</td>\n",
       "      <td>NaN</td>\n",
       "      <td>58</td>\n",
       "      <td>Dominican Republic</td>\n",
       "      <td>2</td>\n",
       "      <td>...</td>\n",
       "      <td>NaN</td>\n",
       "      <td>PGIS</td>\n",
       "      <td>0</td>\n",
       "      <td>0</td>\n",
       "      <td>0</td>\n",
       "      <td>0</td>\n",
       "      <td>NaN</td>\n",
       "      <td>01</td>\n",
       "      <td>01</td>\n",
       "      <td>1970-01-01</td>\n",
       "    </tr>\n",
       "    <tr>\n",
       "      <th>1</th>\n",
       "      <td>197000000002</td>\n",
       "      <td>1970</td>\n",
       "      <td>0</td>\n",
       "      <td>0</td>\n",
       "      <td>NaN</td>\n",
       "      <td>0</td>\n",
       "      <td>NaN</td>\n",
       "      <td>130</td>\n",
       "      <td>Mexico</td>\n",
       "      <td>1</td>\n",
       "      <td>...</td>\n",
       "      <td>NaN</td>\n",
       "      <td>PGIS</td>\n",
       "      <td>0</td>\n",
       "      <td>1</td>\n",
       "      <td>1</td>\n",
       "      <td>1</td>\n",
       "      <td>NaN</td>\n",
       "      <td>01</td>\n",
       "      <td>01</td>\n",
       "      <td>1970-01-01</td>\n",
       "    </tr>\n",
       "    <tr>\n",
       "      <th>2</th>\n",
       "      <td>197001000001</td>\n",
       "      <td>1970</td>\n",
       "      <td>1</td>\n",
       "      <td>0</td>\n",
       "      <td>NaN</td>\n",
       "      <td>0</td>\n",
       "      <td>NaN</td>\n",
       "      <td>160</td>\n",
       "      <td>Philippines</td>\n",
       "      <td>5</td>\n",
       "      <td>...</td>\n",
       "      <td>NaN</td>\n",
       "      <td>PGIS</td>\n",
       "      <td>-9</td>\n",
       "      <td>-9</td>\n",
       "      <td>1</td>\n",
       "      <td>1</td>\n",
       "      <td>NaN</td>\n",
       "      <td>01</td>\n",
       "      <td>01</td>\n",
       "      <td>1970-01-01</td>\n",
       "    </tr>\n",
       "    <tr>\n",
       "      <th>3</th>\n",
       "      <td>197001000002</td>\n",
       "      <td>1970</td>\n",
       "      <td>1</td>\n",
       "      <td>0</td>\n",
       "      <td>NaN</td>\n",
       "      <td>0</td>\n",
       "      <td>NaN</td>\n",
       "      <td>78</td>\n",
       "      <td>Greece</td>\n",
       "      <td>8</td>\n",
       "      <td>...</td>\n",
       "      <td>NaN</td>\n",
       "      <td>PGIS</td>\n",
       "      <td>-9</td>\n",
       "      <td>-9</td>\n",
       "      <td>1</td>\n",
       "      <td>1</td>\n",
       "      <td>NaN</td>\n",
       "      <td>01</td>\n",
       "      <td>01</td>\n",
       "      <td>1970-01-01</td>\n",
       "    </tr>\n",
       "    <tr>\n",
       "      <th>4</th>\n",
       "      <td>197001000003</td>\n",
       "      <td>1970</td>\n",
       "      <td>1</td>\n",
       "      <td>0</td>\n",
       "      <td>NaN</td>\n",
       "      <td>0</td>\n",
       "      <td>NaN</td>\n",
       "      <td>101</td>\n",
       "      <td>Japan</td>\n",
       "      <td>4</td>\n",
       "      <td>...</td>\n",
       "      <td>NaN</td>\n",
       "      <td>PGIS</td>\n",
       "      <td>-9</td>\n",
       "      <td>-9</td>\n",
       "      <td>1</td>\n",
       "      <td>1</td>\n",
       "      <td>NaN</td>\n",
       "      <td>01</td>\n",
       "      <td>01</td>\n",
       "      <td>1970-01-01</td>\n",
       "    </tr>\n",
       "    <tr>\n",
       "      <th>5</th>\n",
       "      <td>197001010002</td>\n",
       "      <td>1970</td>\n",
       "      <td>1</td>\n",
       "      <td>1</td>\n",
       "      <td>NaN</td>\n",
       "      <td>0</td>\n",
       "      <td>NaN</td>\n",
       "      <td>217</td>\n",
       "      <td>United States</td>\n",
       "      <td>1</td>\n",
       "      <td>...</td>\n",
       "      <td>Christopher Hewitt, \"Political Violence and Te...</td>\n",
       "      <td>Hewitt Project</td>\n",
       "      <td>-9</td>\n",
       "      <td>-9</td>\n",
       "      <td>0</td>\n",
       "      <td>-9</td>\n",
       "      <td>NaN</td>\n",
       "      <td>01</td>\n",
       "      <td>01</td>\n",
       "      <td>1970-01-01</td>\n",
       "    </tr>\n",
       "    <tr>\n",
       "      <th>6</th>\n",
       "      <td>197001020001</td>\n",
       "      <td>1970</td>\n",
       "      <td>1</td>\n",
       "      <td>2</td>\n",
       "      <td>NaN</td>\n",
       "      <td>0</td>\n",
       "      <td>NaN</td>\n",
       "      <td>218</td>\n",
       "      <td>Uruguay</td>\n",
       "      <td>3</td>\n",
       "      <td>...</td>\n",
       "      <td>NaN</td>\n",
       "      <td>PGIS</td>\n",
       "      <td>0</td>\n",
       "      <td>0</td>\n",
       "      <td>0</td>\n",
       "      <td>0</td>\n",
       "      <td>NaN</td>\n",
       "      <td>01</td>\n",
       "      <td>02</td>\n",
       "      <td>1970-01-02</td>\n",
       "    </tr>\n",
       "    <tr>\n",
       "      <th>7</th>\n",
       "      <td>197001020002</td>\n",
       "      <td>1970</td>\n",
       "      <td>1</td>\n",
       "      <td>2</td>\n",
       "      <td>NaN</td>\n",
       "      <td>0</td>\n",
       "      <td>NaN</td>\n",
       "      <td>217</td>\n",
       "      <td>United States</td>\n",
       "      <td>1</td>\n",
       "      <td>...</td>\n",
       "      <td>NaN</td>\n",
       "      <td>Hewitt Project</td>\n",
       "      <td>-9</td>\n",
       "      <td>-9</td>\n",
       "      <td>0</td>\n",
       "      <td>-9</td>\n",
       "      <td>NaN</td>\n",
       "      <td>01</td>\n",
       "      <td>02</td>\n",
       "      <td>1970-01-02</td>\n",
       "    </tr>\n",
       "    <tr>\n",
       "      <th>8</th>\n",
       "      <td>197001020003</td>\n",
       "      <td>1970</td>\n",
       "      <td>1</td>\n",
       "      <td>2</td>\n",
       "      <td>NaN</td>\n",
       "      <td>0</td>\n",
       "      <td>NaN</td>\n",
       "      <td>217</td>\n",
       "      <td>United States</td>\n",
       "      <td>1</td>\n",
       "      <td>...</td>\n",
       "      <td>The Wisconsin Cartographers' Guild, \"Wisconsin...</td>\n",
       "      <td>Hewitt Project</td>\n",
       "      <td>0</td>\n",
       "      <td>0</td>\n",
       "      <td>0</td>\n",
       "      <td>0</td>\n",
       "      <td>NaN</td>\n",
       "      <td>01</td>\n",
       "      <td>02</td>\n",
       "      <td>1970-01-02</td>\n",
       "    </tr>\n",
       "    <tr>\n",
       "      <th>9</th>\n",
       "      <td>197001030001</td>\n",
       "      <td>1970</td>\n",
       "      <td>1</td>\n",
       "      <td>3</td>\n",
       "      <td>NaN</td>\n",
       "      <td>0</td>\n",
       "      <td>NaN</td>\n",
       "      <td>217</td>\n",
       "      <td>United States</td>\n",
       "      <td>1</td>\n",
       "      <td>...</td>\n",
       "      <td>David Newman, Sandra Sutherland, and Jon Stewa...</td>\n",
       "      <td>Hewitt Project</td>\n",
       "      <td>0</td>\n",
       "      <td>0</td>\n",
       "      <td>0</td>\n",
       "      <td>0</td>\n",
       "      <td>NaN</td>\n",
       "      <td>01</td>\n",
       "      <td>03</td>\n",
       "      <td>1970-01-03</td>\n",
       "    </tr>\n",
       "    <tr>\n",
       "      <th>10</th>\n",
       "      <td>197001050001</td>\n",
       "      <td>1970</td>\n",
       "      <td>1</td>\n",
       "      <td>1</td>\n",
       "      <td>NaN</td>\n",
       "      <td>0</td>\n",
       "      <td>NaN</td>\n",
       "      <td>217</td>\n",
       "      <td>United States</td>\n",
       "      <td>1</td>\n",
       "      <td>...</td>\n",
       "      <td>NaN</td>\n",
       "      <td>PGIS</td>\n",
       "      <td>0</td>\n",
       "      <td>0</td>\n",
       "      <td>0</td>\n",
       "      <td>0</td>\n",
       "      <td>NaN</td>\n",
       "      <td>01</td>\n",
       "      <td>01</td>\n",
       "      <td>1970-01-01</td>\n",
       "    </tr>\n",
       "    <tr>\n",
       "      <th>11</th>\n",
       "      <td>197001060001</td>\n",
       "      <td>1970</td>\n",
       "      <td>1</td>\n",
       "      <td>6</td>\n",
       "      <td>NaN</td>\n",
       "      <td>0</td>\n",
       "      <td>NaN</td>\n",
       "      <td>217</td>\n",
       "      <td>United States</td>\n",
       "      <td>1</td>\n",
       "      <td>...</td>\n",
       "      <td>NaN</td>\n",
       "      <td>Hewitt Project</td>\n",
       "      <td>-9</td>\n",
       "      <td>-9</td>\n",
       "      <td>0</td>\n",
       "      <td>-9</td>\n",
       "      <td>NaN</td>\n",
       "      <td>01</td>\n",
       "      <td>06</td>\n",
       "      <td>1970-01-06</td>\n",
       "    </tr>\n",
       "    <tr>\n",
       "      <th>12</th>\n",
       "      <td>197001080001</td>\n",
       "      <td>1970</td>\n",
       "      <td>1</td>\n",
       "      <td>8</td>\n",
       "      <td>NaN</td>\n",
       "      <td>0</td>\n",
       "      <td>NaN</td>\n",
       "      <td>98</td>\n",
       "      <td>Italy</td>\n",
       "      <td>8</td>\n",
       "      <td>...</td>\n",
       "      <td>NaN</td>\n",
       "      <td>Hijacking DB</td>\n",
       "      <td>-9</td>\n",
       "      <td>-9</td>\n",
       "      <td>1</td>\n",
       "      <td>1</td>\n",
       "      <td>NaN</td>\n",
       "      <td>01</td>\n",
       "      <td>08</td>\n",
       "      <td>1970-01-08</td>\n",
       "    </tr>\n",
       "    <tr>\n",
       "      <th>13</th>\n",
       "      <td>197001090001</td>\n",
       "      <td>1970</td>\n",
       "      <td>1</td>\n",
       "      <td>9</td>\n",
       "      <td>NaN</td>\n",
       "      <td>0</td>\n",
       "      <td>NaN</td>\n",
       "      <td>217</td>\n",
       "      <td>United States</td>\n",
       "      <td>1</td>\n",
       "      <td>...</td>\n",
       "      <td>NaN</td>\n",
       "      <td>Hewitt Project</td>\n",
       "      <td>-9</td>\n",
       "      <td>-9</td>\n",
       "      <td>0</td>\n",
       "      <td>-9</td>\n",
       "      <td>NaN</td>\n",
       "      <td>01</td>\n",
       "      <td>09</td>\n",
       "      <td>1970-01-09</td>\n",
       "    </tr>\n",
       "    <tr>\n",
       "      <th>14</th>\n",
       "      <td>197001090002</td>\n",
       "      <td>1970</td>\n",
       "      <td>1</td>\n",
       "      <td>9</td>\n",
       "      <td>NaN</td>\n",
       "      <td>0</td>\n",
       "      <td>NaN</td>\n",
       "      <td>217</td>\n",
       "      <td>United States</td>\n",
       "      <td>1</td>\n",
       "      <td>...</td>\n",
       "      <td>\"Toward People's War for Independence and Soci...</td>\n",
       "      <td>Hewitt Project</td>\n",
       "      <td>0</td>\n",
       "      <td>0</td>\n",
       "      <td>0</td>\n",
       "      <td>0</td>\n",
       "      <td>NaN</td>\n",
       "      <td>01</td>\n",
       "      <td>09</td>\n",
       "      <td>1970-01-09</td>\n",
       "    </tr>\n",
       "    <tr>\n",
       "      <th>15</th>\n",
       "      <td>197001100001</td>\n",
       "      <td>1970</td>\n",
       "      <td>1</td>\n",
       "      <td>10</td>\n",
       "      <td>NaN</td>\n",
       "      <td>0</td>\n",
       "      <td>NaN</td>\n",
       "      <td>499</td>\n",
       "      <td>East Germany (GDR)</td>\n",
       "      <td>9</td>\n",
       "      <td>...</td>\n",
       "      <td>NaN</td>\n",
       "      <td>PGIS</td>\n",
       "      <td>0</td>\n",
       "      <td>1</td>\n",
       "      <td>1</td>\n",
       "      <td>1</td>\n",
       "      <td>NaN</td>\n",
       "      <td>01</td>\n",
       "      <td>10</td>\n",
       "      <td>1970-01-10</td>\n",
       "    </tr>\n",
       "    <tr>\n",
       "      <th>16</th>\n",
       "      <td>197001110001</td>\n",
       "      <td>1970</td>\n",
       "      <td>1</td>\n",
       "      <td>11</td>\n",
       "      <td>NaN</td>\n",
       "      <td>0</td>\n",
       "      <td>NaN</td>\n",
       "      <td>65</td>\n",
       "      <td>Ethiopia</td>\n",
       "      <td>11</td>\n",
       "      <td>...</td>\n",
       "      <td>NaN</td>\n",
       "      <td>PGIS</td>\n",
       "      <td>0</td>\n",
       "      <td>1</td>\n",
       "      <td>1</td>\n",
       "      <td>1</td>\n",
       "      <td>NaN</td>\n",
       "      <td>01</td>\n",
       "      <td>11</td>\n",
       "      <td>1970-01-11</td>\n",
       "    </tr>\n",
       "    <tr>\n",
       "      <th>17</th>\n",
       "      <td>197001120001</td>\n",
       "      <td>1970</td>\n",
       "      <td>1</td>\n",
       "      <td>12</td>\n",
       "      <td>NaN</td>\n",
       "      <td>0</td>\n",
       "      <td>NaN</td>\n",
       "      <td>217</td>\n",
       "      <td>United States</td>\n",
       "      <td>1</td>\n",
       "      <td>...</td>\n",
       "      <td>Committee on Government Operations United Stat...</td>\n",
       "      <td>Hewitt Project</td>\n",
       "      <td>-9</td>\n",
       "      <td>-9</td>\n",
       "      <td>0</td>\n",
       "      <td>-9</td>\n",
       "      <td>NaN</td>\n",
       "      <td>01</td>\n",
       "      <td>12</td>\n",
       "      <td>1970-01-12</td>\n",
       "    </tr>\n",
       "    <tr>\n",
       "      <th>18</th>\n",
       "      <td>197001120002</td>\n",
       "      <td>1970</td>\n",
       "      <td>1</td>\n",
       "      <td>12</td>\n",
       "      <td>NaN</td>\n",
       "      <td>0</td>\n",
       "      <td>NaN</td>\n",
       "      <td>217</td>\n",
       "      <td>United States</td>\n",
       "      <td>1</td>\n",
       "      <td>...</td>\n",
       "      <td>NaN</td>\n",
       "      <td>Hewitt Project</td>\n",
       "      <td>-9</td>\n",
       "      <td>-9</td>\n",
       "      <td>0</td>\n",
       "      <td>-9</td>\n",
       "      <td>NaN</td>\n",
       "      <td>01</td>\n",
       "      <td>12</td>\n",
       "      <td>1970-01-12</td>\n",
       "    </tr>\n",
       "    <tr>\n",
       "      <th>19</th>\n",
       "      <td>197001130001</td>\n",
       "      <td>1970</td>\n",
       "      <td>1</td>\n",
       "      <td>13</td>\n",
       "      <td>NaN</td>\n",
       "      <td>0</td>\n",
       "      <td>NaN</td>\n",
       "      <td>217</td>\n",
       "      <td>United States</td>\n",
       "      <td>1</td>\n",
       "      <td>...</td>\n",
       "      <td>NaN</td>\n",
       "      <td>Hewitt Project</td>\n",
       "      <td>-9</td>\n",
       "      <td>-9</td>\n",
       "      <td>0</td>\n",
       "      <td>-9</td>\n",
       "      <td>NaN</td>\n",
       "      <td>01</td>\n",
       "      <td>13</td>\n",
       "      <td>1970-01-13</td>\n",
       "    </tr>\n",
       "    <tr>\n",
       "      <th>20</th>\n",
       "      <td>197001140001</td>\n",
       "      <td>1970</td>\n",
       "      <td>1</td>\n",
       "      <td>14</td>\n",
       "      <td>NaN</td>\n",
       "      <td>0</td>\n",
       "      <td>NaN</td>\n",
       "      <td>217</td>\n",
       "      <td>United States</td>\n",
       "      <td>1</td>\n",
       "      <td>...</td>\n",
       "      <td>Peter F. Nardulli and Jeffrey M. Stonecash, \"P...</td>\n",
       "      <td>Hewitt Project</td>\n",
       "      <td>-9</td>\n",
       "      <td>-9</td>\n",
       "      <td>0</td>\n",
       "      <td>-9</td>\n",
       "      <td>NaN</td>\n",
       "      <td>01</td>\n",
       "      <td>14</td>\n",
       "      <td>1970-01-14</td>\n",
       "    </tr>\n",
       "    <tr>\n",
       "      <th>21</th>\n",
       "      <td>197001150001</td>\n",
       "      <td>1970</td>\n",
       "      <td>1</td>\n",
       "      <td>15</td>\n",
       "      <td>NaN</td>\n",
       "      <td>0</td>\n",
       "      <td>NaN</td>\n",
       "      <td>218</td>\n",
       "      <td>Uruguay</td>\n",
       "      <td>3</td>\n",
       "      <td>...</td>\n",
       "      <td>NaN</td>\n",
       "      <td>PGIS</td>\n",
       "      <td>0</td>\n",
       "      <td>0</td>\n",
       "      <td>0</td>\n",
       "      <td>0</td>\n",
       "      <td>NaN</td>\n",
       "      <td>01</td>\n",
       "      <td>15</td>\n",
       "      <td>1970-01-15</td>\n",
       "    </tr>\n",
       "    <tr>\n",
       "      <th>22</th>\n",
       "      <td>197001190002</td>\n",
       "      <td>1970</td>\n",
       "      <td>1</td>\n",
       "      <td>19</td>\n",
       "      <td>NaN</td>\n",
       "      <td>0</td>\n",
       "      <td>NaN</td>\n",
       "      <td>217</td>\n",
       "      <td>United States</td>\n",
       "      <td>1</td>\n",
       "      <td>...</td>\n",
       "      <td>Seattle University, \"1965-1975: Troubled Times...</td>\n",
       "      <td>Hewitt Project</td>\n",
       "      <td>-9</td>\n",
       "      <td>-9</td>\n",
       "      <td>0</td>\n",
       "      <td>-9</td>\n",
       "      <td>NaN</td>\n",
       "      <td>01</td>\n",
       "      <td>19</td>\n",
       "      <td>1970-01-19</td>\n",
       "    </tr>\n",
       "    <tr>\n",
       "      <th>23</th>\n",
       "      <td>197001190003</td>\n",
       "      <td>1970</td>\n",
       "      <td>1</td>\n",
       "      <td>19</td>\n",
       "      <td>NaN</td>\n",
       "      <td>0</td>\n",
       "      <td>NaN</td>\n",
       "      <td>217</td>\n",
       "      <td>United States</td>\n",
       "      <td>1</td>\n",
       "      <td>...</td>\n",
       "      <td>Earl Caldwell, \"Fear Grows In Seattle As Polic...</td>\n",
       "      <td>Hewitt Project</td>\n",
       "      <td>-9</td>\n",
       "      <td>-9</td>\n",
       "      <td>0</td>\n",
       "      <td>-9</td>\n",
       "      <td>NaN</td>\n",
       "      <td>01</td>\n",
       "      <td>19</td>\n",
       "      <td>1970-01-19</td>\n",
       "    </tr>\n",
       "    <tr>\n",
       "      <th>24</th>\n",
       "      <td>197001190004</td>\n",
       "      <td>1970</td>\n",
       "      <td>1</td>\n",
       "      <td>19</td>\n",
       "      <td>January 19-20, 1970</td>\n",
       "      <td>0</td>\n",
       "      <td>NaN</td>\n",
       "      <td>217</td>\n",
       "      <td>United States</td>\n",
       "      <td>1</td>\n",
       "      <td>...</td>\n",
       "      <td>\"30 Shots Fired Into Office of Panthers in Jer...</td>\n",
       "      <td>Hewitt Project</td>\n",
       "      <td>-9</td>\n",
       "      <td>-9</td>\n",
       "      <td>0</td>\n",
       "      <td>-9</td>\n",
       "      <td>NaN</td>\n",
       "      <td>01</td>\n",
       "      <td>19</td>\n",
       "      <td>1970-01-19</td>\n",
       "    </tr>\n",
       "    <tr>\n",
       "      <th>25</th>\n",
       "      <td>197001200001</td>\n",
       "      <td>1970</td>\n",
       "      <td>1</td>\n",
       "      <td>20</td>\n",
       "      <td>NaN</td>\n",
       "      <td>0</td>\n",
       "      <td>NaN</td>\n",
       "      <td>83</td>\n",
       "      <td>Guatemala</td>\n",
       "      <td>2</td>\n",
       "      <td>...</td>\n",
       "      <td>NaN</td>\n",
       "      <td>PGIS</td>\n",
       "      <td>-9</td>\n",
       "      <td>-9</td>\n",
       "      <td>1</td>\n",
       "      <td>1</td>\n",
       "      <td>NaN</td>\n",
       "      <td>01</td>\n",
       "      <td>20</td>\n",
       "      <td>1970-01-20</td>\n",
       "    </tr>\n",
       "    <tr>\n",
       "      <th>26</th>\n",
       "      <td>197001210001</td>\n",
       "      <td>1970</td>\n",
       "      <td>1</td>\n",
       "      <td>21</td>\n",
       "      <td>NaN</td>\n",
       "      <td>0</td>\n",
       "      <td>NaN</td>\n",
       "      <td>160</td>\n",
       "      <td>Philippines</td>\n",
       "      <td>5</td>\n",
       "      <td>...</td>\n",
       "      <td>NaN</td>\n",
       "      <td>PGIS</td>\n",
       "      <td>-9</td>\n",
       "      <td>-9</td>\n",
       "      <td>1</td>\n",
       "      <td>1</td>\n",
       "      <td>NaN</td>\n",
       "      <td>01</td>\n",
       "      <td>21</td>\n",
       "      <td>1970-01-21</td>\n",
       "    </tr>\n",
       "    <tr>\n",
       "      <th>27</th>\n",
       "      <td>197001220001</td>\n",
       "      <td>1970</td>\n",
       "      <td>1</td>\n",
       "      <td>22</td>\n",
       "      <td>NaN</td>\n",
       "      <td>0</td>\n",
       "      <td>NaN</td>\n",
       "      <td>222</td>\n",
       "      <td>Venezuela</td>\n",
       "      <td>3</td>\n",
       "      <td>...</td>\n",
       "      <td>NaN</td>\n",
       "      <td>PGIS</td>\n",
       "      <td>0</td>\n",
       "      <td>0</td>\n",
       "      <td>0</td>\n",
       "      <td>0</td>\n",
       "      <td>NaN</td>\n",
       "      <td>01</td>\n",
       "      <td>22</td>\n",
       "      <td>1970-01-22</td>\n",
       "    </tr>\n",
       "    <tr>\n",
       "      <th>28</th>\n",
       "      <td>197001220002</td>\n",
       "      <td>1970</td>\n",
       "      <td>1</td>\n",
       "      <td>22</td>\n",
       "      <td>NaN</td>\n",
       "      <td>0</td>\n",
       "      <td>NaN</td>\n",
       "      <td>217</td>\n",
       "      <td>United States</td>\n",
       "      <td>1</td>\n",
       "      <td>...</td>\n",
       "      <td>NaN</td>\n",
       "      <td>Hewitt Project</td>\n",
       "      <td>-9</td>\n",
       "      <td>-9</td>\n",
       "      <td>0</td>\n",
       "      <td>-9</td>\n",
       "      <td>NaN</td>\n",
       "      <td>01</td>\n",
       "      <td>22</td>\n",
       "      <td>1970-01-22</td>\n",
       "    </tr>\n",
       "    <tr>\n",
       "      <th>29</th>\n",
       "      <td>197001250001</td>\n",
       "      <td>1970</td>\n",
       "      <td>1</td>\n",
       "      <td>25</td>\n",
       "      <td>NaN</td>\n",
       "      <td>0</td>\n",
       "      <td>NaN</td>\n",
       "      <td>217</td>\n",
       "      <td>United States</td>\n",
       "      <td>1</td>\n",
       "      <td>...</td>\n",
       "      <td>NaN</td>\n",
       "      <td>Hewitt Project</td>\n",
       "      <td>-9</td>\n",
       "      <td>-9</td>\n",
       "      <td>0</td>\n",
       "      <td>-9</td>\n",
       "      <td>NaN</td>\n",
       "      <td>01</td>\n",
       "      <td>25</td>\n",
       "      <td>1970-01-25</td>\n",
       "    </tr>\n",
       "    <tr>\n",
       "      <th>...</th>\n",
       "      <td>...</td>\n",
       "      <td>...</td>\n",
       "      <td>...</td>\n",
       "      <td>...</td>\n",
       "      <td>...</td>\n",
       "      <td>...</td>\n",
       "      <td>...</td>\n",
       "      <td>...</td>\n",
       "      <td>...</td>\n",
       "      <td>...</td>\n",
       "      <td>...</td>\n",
       "      <td>...</td>\n",
       "      <td>...</td>\n",
       "      <td>...</td>\n",
       "      <td>...</td>\n",
       "      <td>...</td>\n",
       "      <td>...</td>\n",
       "      <td>...</td>\n",
       "      <td>...</td>\n",
       "      <td>...</td>\n",
       "      <td>...</td>\n",
       "    </tr>\n",
       "    <tr>\n",
       "      <th>156742</th>\n",
       "      <td>201512310002</td>\n",
       "      <td>2015</td>\n",
       "      <td>12</td>\n",
       "      <td>31</td>\n",
       "      <td>NaN</td>\n",
       "      <td>0</td>\n",
       "      <td>NaN</td>\n",
       "      <td>95</td>\n",
       "      <td>Iraq</td>\n",
       "      <td>10</td>\n",
       "      <td>...</td>\n",
       "      <td>NaN</td>\n",
       "      <td>START Primary Collection</td>\n",
       "      <td>-9</td>\n",
       "      <td>-9</td>\n",
       "      <td>0</td>\n",
       "      <td>-9</td>\n",
       "      <td>NaN</td>\n",
       "      <td>12</td>\n",
       "      <td>31</td>\n",
       "      <td>2015-12-31</td>\n",
       "    </tr>\n",
       "    <tr>\n",
       "      <th>156743</th>\n",
       "      <td>201512310004</td>\n",
       "      <td>2015</td>\n",
       "      <td>12</td>\n",
       "      <td>31</td>\n",
       "      <td>NaN</td>\n",
       "      <td>0</td>\n",
       "      <td>NaN</td>\n",
       "      <td>95</td>\n",
       "      <td>Iraq</td>\n",
       "      <td>10</td>\n",
       "      <td>...</td>\n",
       "      <td>NaN</td>\n",
       "      <td>START Primary Collection</td>\n",
       "      <td>-9</td>\n",
       "      <td>-9</td>\n",
       "      <td>0</td>\n",
       "      <td>-9</td>\n",
       "      <td>NaN</td>\n",
       "      <td>12</td>\n",
       "      <td>31</td>\n",
       "      <td>2015-12-31</td>\n",
       "    </tr>\n",
       "    <tr>\n",
       "      <th>156744</th>\n",
       "      <td>201512310005</td>\n",
       "      <td>2015</td>\n",
       "      <td>12</td>\n",
       "      <td>31</td>\n",
       "      <td>NaN</td>\n",
       "      <td>0</td>\n",
       "      <td>NaN</td>\n",
       "      <td>95</td>\n",
       "      <td>Iraq</td>\n",
       "      <td>10</td>\n",
       "      <td>...</td>\n",
       "      <td>\"Terrorism: Transcript of ISIL's Al-Bayan Radi...</td>\n",
       "      <td>START Primary Collection</td>\n",
       "      <td>-9</td>\n",
       "      <td>-9</td>\n",
       "      <td>0</td>\n",
       "      <td>-9</td>\n",
       "      <td>NaN</td>\n",
       "      <td>12</td>\n",
       "      <td>31</td>\n",
       "      <td>2015-12-31</td>\n",
       "    </tr>\n",
       "    <tr>\n",
       "      <th>156745</th>\n",
       "      <td>201512310006</td>\n",
       "      <td>2015</td>\n",
       "      <td>12</td>\n",
       "      <td>31</td>\n",
       "      <td>NaN</td>\n",
       "      <td>0</td>\n",
       "      <td>NaN</td>\n",
       "      <td>95</td>\n",
       "      <td>Iraq</td>\n",
       "      <td>10</td>\n",
       "      <td>...</td>\n",
       "      <td>NaN</td>\n",
       "      <td>START Primary Collection</td>\n",
       "      <td>-9</td>\n",
       "      <td>-9</td>\n",
       "      <td>0</td>\n",
       "      <td>-9</td>\n",
       "      <td>NaN</td>\n",
       "      <td>12</td>\n",
       "      <td>31</td>\n",
       "      <td>2015-12-31</td>\n",
       "    </tr>\n",
       "    <tr>\n",
       "      <th>156746</th>\n",
       "      <td>201512310008</td>\n",
       "      <td>2015</td>\n",
       "      <td>12</td>\n",
       "      <td>31</td>\n",
       "      <td>NaN</td>\n",
       "      <td>1</td>\n",
       "      <td>NaN</td>\n",
       "      <td>228</td>\n",
       "      <td>Yemen</td>\n",
       "      <td>10</td>\n",
       "      <td>...</td>\n",
       "      <td>\"Gunmen kill senior militia leader in Yemen's ...</td>\n",
       "      <td>START Primary Collection</td>\n",
       "      <td>-9</td>\n",
       "      <td>-9</td>\n",
       "      <td>0</td>\n",
       "      <td>-9</td>\n",
       "      <td>NaN</td>\n",
       "      <td>12</td>\n",
       "      <td>31</td>\n",
       "      <td>2015-12-31</td>\n",
       "    </tr>\n",
       "    <tr>\n",
       "      <th>156747</th>\n",
       "      <td>201512310009</td>\n",
       "      <td>2015</td>\n",
       "      <td>12</td>\n",
       "      <td>31</td>\n",
       "      <td>NaN</td>\n",
       "      <td>0</td>\n",
       "      <td>NaN</td>\n",
       "      <td>228</td>\n",
       "      <td>Yemen</td>\n",
       "      <td>10</td>\n",
       "      <td>...</td>\n",
       "      <td>\"Senior south Yemen army commander survives bo...</td>\n",
       "      <td>START Primary Collection</td>\n",
       "      <td>-9</td>\n",
       "      <td>-9</td>\n",
       "      <td>0</td>\n",
       "      <td>-9</td>\n",
       "      <td>NaN</td>\n",
       "      <td>12</td>\n",
       "      <td>31</td>\n",
       "      <td>2015-12-31</td>\n",
       "    </tr>\n",
       "    <tr>\n",
       "      <th>156748</th>\n",
       "      <td>201512310010</td>\n",
       "      <td>2015</td>\n",
       "      <td>12</td>\n",
       "      <td>31</td>\n",
       "      <td>NaN</td>\n",
       "      <td>0</td>\n",
       "      <td>NaN</td>\n",
       "      <td>228</td>\n",
       "      <td>Yemen</td>\n",
       "      <td>10</td>\n",
       "      <td>...</td>\n",
       "      <td>NaN</td>\n",
       "      <td>START Primary Collection</td>\n",
       "      <td>0</td>\n",
       "      <td>1</td>\n",
       "      <td>0</td>\n",
       "      <td>1</td>\n",
       "      <td>NaN</td>\n",
       "      <td>12</td>\n",
       "      <td>31</td>\n",
       "      <td>2015-12-31</td>\n",
       "    </tr>\n",
       "    <tr>\n",
       "      <th>156749</th>\n",
       "      <td>201512310012</td>\n",
       "      <td>2015</td>\n",
       "      <td>12</td>\n",
       "      <td>31</td>\n",
       "      <td>NaN</td>\n",
       "      <td>0</td>\n",
       "      <td>NaN</td>\n",
       "      <td>228</td>\n",
       "      <td>Yemen</td>\n",
       "      <td>10</td>\n",
       "      <td>...</td>\n",
       "      <td>NaN</td>\n",
       "      <td>START Primary Collection</td>\n",
       "      <td>0</td>\n",
       "      <td>0</td>\n",
       "      <td>0</td>\n",
       "      <td>0</td>\n",
       "      <td>NaN</td>\n",
       "      <td>12</td>\n",
       "      <td>31</td>\n",
       "      <td>2015-12-31</td>\n",
       "    </tr>\n",
       "    <tr>\n",
       "      <th>156750</th>\n",
       "      <td>201512310013</td>\n",
       "      <td>2015</td>\n",
       "      <td>12</td>\n",
       "      <td>31</td>\n",
       "      <td>NaN</td>\n",
       "      <td>0</td>\n",
       "      <td>NaN</td>\n",
       "      <td>173</td>\n",
       "      <td>Saudi Arabia</td>\n",
       "      <td>10</td>\n",
       "      <td>...</td>\n",
       "      <td>NaN</td>\n",
       "      <td>START Primary Collection</td>\n",
       "      <td>1</td>\n",
       "      <td>1</td>\n",
       "      <td>0</td>\n",
       "      <td>1</td>\n",
       "      <td>NaN</td>\n",
       "      <td>12</td>\n",
       "      <td>31</td>\n",
       "      <td>2015-12-31</td>\n",
       "    </tr>\n",
       "    <tr>\n",
       "      <th>156751</th>\n",
       "      <td>201512310015</td>\n",
       "      <td>2015</td>\n",
       "      <td>12</td>\n",
       "      <td>31</td>\n",
       "      <td>NaN</td>\n",
       "      <td>0</td>\n",
       "      <td>NaN</td>\n",
       "      <td>60</td>\n",
       "      <td>Egypt</td>\n",
       "      <td>10</td>\n",
       "      <td>...</td>\n",
       "      <td>\"Egypt officials: Militants in Sinai kill enti...</td>\n",
       "      <td>START Primary Collection</td>\n",
       "      <td>-9</td>\n",
       "      <td>-9</td>\n",
       "      <td>0</td>\n",
       "      <td>-9</td>\n",
       "      <td>NaN</td>\n",
       "      <td>12</td>\n",
       "      <td>31</td>\n",
       "      <td>2015-12-31</td>\n",
       "    </tr>\n",
       "    <tr>\n",
       "      <th>156752</th>\n",
       "      <td>201512310016</td>\n",
       "      <td>2015</td>\n",
       "      <td>12</td>\n",
       "      <td>31</td>\n",
       "      <td>NaN</td>\n",
       "      <td>0</td>\n",
       "      <td>NaN</td>\n",
       "      <td>173</td>\n",
       "      <td>Saudi Arabia</td>\n",
       "      <td>10</td>\n",
       "      <td>...</td>\n",
       "      <td>NaN</td>\n",
       "      <td>START Primary Collection</td>\n",
       "      <td>-9</td>\n",
       "      <td>-9</td>\n",
       "      <td>0</td>\n",
       "      <td>-9</td>\n",
       "      <td>NaN</td>\n",
       "      <td>12</td>\n",
       "      <td>31</td>\n",
       "      <td>2015-12-31</td>\n",
       "    </tr>\n",
       "    <tr>\n",
       "      <th>156753</th>\n",
       "      <td>201512310017</td>\n",
       "      <td>2015</td>\n",
       "      <td>12</td>\n",
       "      <td>31</td>\n",
       "      <td>NaN</td>\n",
       "      <td>0</td>\n",
       "      <td>NaN</td>\n",
       "      <td>155</td>\n",
       "      <td>West Bank and Gaza Strip</td>\n",
       "      <td>10</td>\n",
       "      <td>...</td>\n",
       "      <td>\"Breaking: Soldier lightly wounded in vehicula...</td>\n",
       "      <td>START Primary Collection</td>\n",
       "      <td>0</td>\n",
       "      <td>0</td>\n",
       "      <td>0</td>\n",
       "      <td>0</td>\n",
       "      <td>NaN</td>\n",
       "      <td>12</td>\n",
       "      <td>31</td>\n",
       "      <td>2015-12-31</td>\n",
       "    </tr>\n",
       "    <tr>\n",
       "      <th>156754</th>\n",
       "      <td>201512310018</td>\n",
       "      <td>2015</td>\n",
       "      <td>12</td>\n",
       "      <td>31</td>\n",
       "      <td>NaN</td>\n",
       "      <td>0</td>\n",
       "      <td>NaN</td>\n",
       "      <td>209</td>\n",
       "      <td>Turkey</td>\n",
       "      <td>10</td>\n",
       "      <td>...</td>\n",
       "      <td>NaN</td>\n",
       "      <td>START Primary Collection</td>\n",
       "      <td>0</td>\n",
       "      <td>0</td>\n",
       "      <td>0</td>\n",
       "      <td>0</td>\n",
       "      <td>NaN</td>\n",
       "      <td>12</td>\n",
       "      <td>31</td>\n",
       "      <td>2015-12-31</td>\n",
       "    </tr>\n",
       "    <tr>\n",
       "      <th>156755</th>\n",
       "      <td>201512310019</td>\n",
       "      <td>2015</td>\n",
       "      <td>12</td>\n",
       "      <td>31</td>\n",
       "      <td>NaN</td>\n",
       "      <td>0</td>\n",
       "      <td>NaN</td>\n",
       "      <td>214</td>\n",
       "      <td>Ukraine</td>\n",
       "      <td>9</td>\n",
       "      <td>...</td>\n",
       "      <td>\"Power transmission line tower in Kherson regi...</td>\n",
       "      <td>START Primary Collection</td>\n",
       "      <td>-9</td>\n",
       "      <td>-9</td>\n",
       "      <td>0</td>\n",
       "      <td>-9</td>\n",
       "      <td>NaN</td>\n",
       "      <td>12</td>\n",
       "      <td>31</td>\n",
       "      <td>2015-12-31</td>\n",
       "    </tr>\n",
       "    <tr>\n",
       "      <th>156756</th>\n",
       "      <td>201512310020</td>\n",
       "      <td>2015</td>\n",
       "      <td>12</td>\n",
       "      <td>31</td>\n",
       "      <td>NaN</td>\n",
       "      <td>0</td>\n",
       "      <td>NaN</td>\n",
       "      <td>92</td>\n",
       "      <td>India</td>\n",
       "      <td>6</td>\n",
       "      <td>...</td>\n",
       "      <td>NaN</td>\n",
       "      <td>START Primary Collection</td>\n",
       "      <td>-9</td>\n",
       "      <td>-9</td>\n",
       "      <td>0</td>\n",
       "      <td>-9</td>\n",
       "      <td>NaN</td>\n",
       "      <td>12</td>\n",
       "      <td>31</td>\n",
       "      <td>2015-12-31</td>\n",
       "    </tr>\n",
       "    <tr>\n",
       "      <th>156757</th>\n",
       "      <td>201512310021</td>\n",
       "      <td>2015</td>\n",
       "      <td>12</td>\n",
       "      <td>31</td>\n",
       "      <td>NaN</td>\n",
       "      <td>0</td>\n",
       "      <td>NaN</td>\n",
       "      <td>75</td>\n",
       "      <td>Germany</td>\n",
       "      <td>8</td>\n",
       "      <td>...</td>\n",
       "      <td>NaN</td>\n",
       "      <td>START Primary Collection</td>\n",
       "      <td>-9</td>\n",
       "      <td>-9</td>\n",
       "      <td>1</td>\n",
       "      <td>1</td>\n",
       "      <td>NaN</td>\n",
       "      <td>12</td>\n",
       "      <td>31</td>\n",
       "      <td>2015-12-31</td>\n",
       "    </tr>\n",
       "    <tr>\n",
       "      <th>156758</th>\n",
       "      <td>201512310022</td>\n",
       "      <td>2015</td>\n",
       "      <td>12</td>\n",
       "      <td>31</td>\n",
       "      <td>NaN</td>\n",
       "      <td>0</td>\n",
       "      <td>NaN</td>\n",
       "      <td>65</td>\n",
       "      <td>Ethiopia</td>\n",
       "      <td>11</td>\n",
       "      <td>...</td>\n",
       "      <td>\"Hand grenade attack kills two at Ethiopian un...</td>\n",
       "      <td>START Primary Collection</td>\n",
       "      <td>-9</td>\n",
       "      <td>-9</td>\n",
       "      <td>0</td>\n",
       "      <td>-9</td>\n",
       "      <td>NaN</td>\n",
       "      <td>12</td>\n",
       "      <td>31</td>\n",
       "      <td>2015-12-31</td>\n",
       "    </tr>\n",
       "    <tr>\n",
       "      <th>156759</th>\n",
       "      <td>201512310024</td>\n",
       "      <td>2015</td>\n",
       "      <td>12</td>\n",
       "      <td>31</td>\n",
       "      <td>NaN</td>\n",
       "      <td>0</td>\n",
       "      <td>NaN</td>\n",
       "      <td>160</td>\n",
       "      <td>Philippines</td>\n",
       "      <td>5</td>\n",
       "      <td>...</td>\n",
       "      <td>\"HeadlinesTroops beat back BIFF assaults on 3 ...</td>\n",
       "      <td>START Primary Collection</td>\n",
       "      <td>0</td>\n",
       "      <td>0</td>\n",
       "      <td>0</td>\n",
       "      <td>0</td>\n",
       "      <td>201512310024, 201512310026, 201512310027</td>\n",
       "      <td>12</td>\n",
       "      <td>31</td>\n",
       "      <td>2015-12-31</td>\n",
       "    </tr>\n",
       "    <tr>\n",
       "      <th>156760</th>\n",
       "      <td>201512310025</td>\n",
       "      <td>2015</td>\n",
       "      <td>12</td>\n",
       "      <td>31</td>\n",
       "      <td>NaN</td>\n",
       "      <td>0</td>\n",
       "      <td>NaN</td>\n",
       "      <td>4</td>\n",
       "      <td>Afghanistan</td>\n",
       "      <td>6</td>\n",
       "      <td>...</td>\n",
       "      <td>NaN</td>\n",
       "      <td>START Primary Collection</td>\n",
       "      <td>0</td>\n",
       "      <td>0</td>\n",
       "      <td>0</td>\n",
       "      <td>0</td>\n",
       "      <td>NaN</td>\n",
       "      <td>12</td>\n",
       "      <td>31</td>\n",
       "      <td>2015-12-31</td>\n",
       "    </tr>\n",
       "    <tr>\n",
       "      <th>156761</th>\n",
       "      <td>201512310026</td>\n",
       "      <td>2015</td>\n",
       "      <td>12</td>\n",
       "      <td>31</td>\n",
       "      <td>NaN</td>\n",
       "      <td>0</td>\n",
       "      <td>NaN</td>\n",
       "      <td>160</td>\n",
       "      <td>Philippines</td>\n",
       "      <td>5</td>\n",
       "      <td>...</td>\n",
       "      <td>\"HeadlinesTroops beat back BIFF assaults on 3 ...</td>\n",
       "      <td>START Primary Collection</td>\n",
       "      <td>0</td>\n",
       "      <td>0</td>\n",
       "      <td>0</td>\n",
       "      <td>0</td>\n",
       "      <td>201512310024, 201512310026, 201512310027</td>\n",
       "      <td>12</td>\n",
       "      <td>31</td>\n",
       "      <td>2015-12-31</td>\n",
       "    </tr>\n",
       "    <tr>\n",
       "      <th>156762</th>\n",
       "      <td>201512310027</td>\n",
       "      <td>2015</td>\n",
       "      <td>12</td>\n",
       "      <td>31</td>\n",
       "      <td>NaN</td>\n",
       "      <td>0</td>\n",
       "      <td>NaN</td>\n",
       "      <td>160</td>\n",
       "      <td>Philippines</td>\n",
       "      <td>5</td>\n",
       "      <td>...</td>\n",
       "      <td>\"BIFF harassments, rido disrupt New Year celeb...</td>\n",
       "      <td>START Primary Collection</td>\n",
       "      <td>0</td>\n",
       "      <td>0</td>\n",
       "      <td>0</td>\n",
       "      <td>0</td>\n",
       "      <td>201512310024, 201512310026, 201512310027</td>\n",
       "      <td>12</td>\n",
       "      <td>31</td>\n",
       "      <td>2015-12-31</td>\n",
       "    </tr>\n",
       "    <tr>\n",
       "      <th>156763</th>\n",
       "      <td>201512310028</td>\n",
       "      <td>2015</td>\n",
       "      <td>12</td>\n",
       "      <td>31</td>\n",
       "      <td>2015-12-31 00:00:00</td>\n",
       "      <td>0</td>\n",
       "      <td>NaN</td>\n",
       "      <td>95</td>\n",
       "      <td>Iraq</td>\n",
       "      <td>10</td>\n",
       "      <td>...</td>\n",
       "      <td>NaN</td>\n",
       "      <td>START Primary Collection</td>\n",
       "      <td>-9</td>\n",
       "      <td>-9</td>\n",
       "      <td>0</td>\n",
       "      <td>-9</td>\n",
       "      <td>NaN</td>\n",
       "      <td>12</td>\n",
       "      <td>31</td>\n",
       "      <td>2015-12-31</td>\n",
       "    </tr>\n",
       "    <tr>\n",
       "      <th>156764</th>\n",
       "      <td>201512310029</td>\n",
       "      <td>2015</td>\n",
       "      <td>12</td>\n",
       "      <td>31</td>\n",
       "      <td>NaN</td>\n",
       "      <td>0</td>\n",
       "      <td>NaN</td>\n",
       "      <td>153</td>\n",
       "      <td>Pakistan</td>\n",
       "      <td>6</td>\n",
       "      <td>...</td>\n",
       "      <td>NaN</td>\n",
       "      <td>START Primary Collection</td>\n",
       "      <td>-9</td>\n",
       "      <td>-9</td>\n",
       "      <td>0</td>\n",
       "      <td>-9</td>\n",
       "      <td>NaN</td>\n",
       "      <td>12</td>\n",
       "      <td>31</td>\n",
       "      <td>2015-12-31</td>\n",
       "    </tr>\n",
       "    <tr>\n",
       "      <th>156765</th>\n",
       "      <td>201512310030</td>\n",
       "      <td>2015</td>\n",
       "      <td>12</td>\n",
       "      <td>31</td>\n",
       "      <td>NaN</td>\n",
       "      <td>0</td>\n",
       "      <td>NaN</td>\n",
       "      <td>153</td>\n",
       "      <td>Pakistan</td>\n",
       "      <td>6</td>\n",
       "      <td>...</td>\n",
       "      <td>NaN</td>\n",
       "      <td>START Primary Collection</td>\n",
       "      <td>0</td>\n",
       "      <td>0</td>\n",
       "      <td>0</td>\n",
       "      <td>0</td>\n",
       "      <td>NaN</td>\n",
       "      <td>12</td>\n",
       "      <td>31</td>\n",
       "      <td>2015-12-31</td>\n",
       "    </tr>\n",
       "    <tr>\n",
       "      <th>156766</th>\n",
       "      <td>201512310031</td>\n",
       "      <td>2015</td>\n",
       "      <td>12</td>\n",
       "      <td>31</td>\n",
       "      <td>NaN</td>\n",
       "      <td>0</td>\n",
       "      <td>NaN</td>\n",
       "      <td>153</td>\n",
       "      <td>Pakistan</td>\n",
       "      <td>6</td>\n",
       "      <td>...</td>\n",
       "      <td>NaN</td>\n",
       "      <td>START Primary Collection</td>\n",
       "      <td>0</td>\n",
       "      <td>0</td>\n",
       "      <td>0</td>\n",
       "      <td>0</td>\n",
       "      <td>NaN</td>\n",
       "      <td>12</td>\n",
       "      <td>31</td>\n",
       "      <td>2015-12-31</td>\n",
       "    </tr>\n",
       "    <tr>\n",
       "      <th>156767</th>\n",
       "      <td>201512310032</td>\n",
       "      <td>2015</td>\n",
       "      <td>12</td>\n",
       "      <td>31</td>\n",
       "      <td>NaN</td>\n",
       "      <td>0</td>\n",
       "      <td>NaN</td>\n",
       "      <td>34</td>\n",
       "      <td>Burundi</td>\n",
       "      <td>11</td>\n",
       "      <td>...</td>\n",
       "      <td>NaN</td>\n",
       "      <td>START Primary Collection</td>\n",
       "      <td>-9</td>\n",
       "      <td>-9</td>\n",
       "      <td>0</td>\n",
       "      <td>-9</td>\n",
       "      <td>NaN</td>\n",
       "      <td>12</td>\n",
       "      <td>31</td>\n",
       "      <td>2015-12-31</td>\n",
       "    </tr>\n",
       "    <tr>\n",
       "      <th>156768</th>\n",
       "      <td>201512310033</td>\n",
       "      <td>2015</td>\n",
       "      <td>12</td>\n",
       "      <td>31</td>\n",
       "      <td>2015-12-31 00:00:00</td>\n",
       "      <td>0</td>\n",
       "      <td>NaN</td>\n",
       "      <td>96</td>\n",
       "      <td>Ireland</td>\n",
       "      <td>8</td>\n",
       "      <td>...</td>\n",
       "      <td>NaN</td>\n",
       "      <td>START Primary Collection</td>\n",
       "      <td>-9</td>\n",
       "      <td>-9</td>\n",
       "      <td>0</td>\n",
       "      <td>-9</td>\n",
       "      <td>NaN</td>\n",
       "      <td>12</td>\n",
       "      <td>31</td>\n",
       "      <td>2015-12-31</td>\n",
       "    </tr>\n",
       "    <tr>\n",
       "      <th>156769</th>\n",
       "      <td>201512310034</td>\n",
       "      <td>2015</td>\n",
       "      <td>12</td>\n",
       "      <td>31</td>\n",
       "      <td>NaN</td>\n",
       "      <td>0</td>\n",
       "      <td>NaN</td>\n",
       "      <td>160</td>\n",
       "      <td>Philippines</td>\n",
       "      <td>5</td>\n",
       "      <td>...</td>\n",
       "      <td>NaN</td>\n",
       "      <td>START Primary Collection</td>\n",
       "      <td>-9</td>\n",
       "      <td>-9</td>\n",
       "      <td>0</td>\n",
       "      <td>-9</td>\n",
       "      <td>NaN</td>\n",
       "      <td>12</td>\n",
       "      <td>31</td>\n",
       "      <td>2015-12-31</td>\n",
       "    </tr>\n",
       "    <tr>\n",
       "      <th>156770</th>\n",
       "      <td>201512310036</td>\n",
       "      <td>2015</td>\n",
       "      <td>12</td>\n",
       "      <td>31</td>\n",
       "      <td>2015-12-31 00:00:00</td>\n",
       "      <td>0</td>\n",
       "      <td>NaN</td>\n",
       "      <td>182</td>\n",
       "      <td>Somalia</td>\n",
       "      <td>11</td>\n",
       "      <td>...</td>\n",
       "      <td>NaN</td>\n",
       "      <td>START Primary Collection</td>\n",
       "      <td>0</td>\n",
       "      <td>0</td>\n",
       "      <td>0</td>\n",
       "      <td>0</td>\n",
       "      <td>NaN</td>\n",
       "      <td>12</td>\n",
       "      <td>31</td>\n",
       "      <td>2015-12-31</td>\n",
       "    </tr>\n",
       "    <tr>\n",
       "      <th>156771</th>\n",
       "      <td>201512310037</td>\n",
       "      <td>2015</td>\n",
       "      <td>12</td>\n",
       "      <td>31</td>\n",
       "      <td>NaN</td>\n",
       "      <td>1</td>\n",
       "      <td>1/16/16</td>\n",
       "      <td>113</td>\n",
       "      <td>Libya</td>\n",
       "      <td>10</td>\n",
       "      <td>...</td>\n",
       "      <td>\"Libya Daily Digest January 20, 2016,\" Libya D...</td>\n",
       "      <td>START Primary Collection</td>\n",
       "      <td>0</td>\n",
       "      <td>1</td>\n",
       "      <td>1</td>\n",
       "      <td>1</td>\n",
       "      <td>NaN</td>\n",
       "      <td>12</td>\n",
       "      <td>31</td>\n",
       "      <td>2015-12-31</td>\n",
       "    </tr>\n",
       "  </tbody>\n",
       "</table>\n",
       "<p>156772 rows × 140 columns</p>\n",
       "</div>"
      ],
      "text/plain": [
       "             eventid  iyear  imonth  iday           approxdate  extended  \\\n",
       "0       197000000001   1970       0     0                  NaN         0   \n",
       "1       197000000002   1970       0     0                  NaN         0   \n",
       "2       197001000001   1970       1     0                  NaN         0   \n",
       "3       197001000002   1970       1     0                  NaN         0   \n",
       "4       197001000003   1970       1     0                  NaN         0   \n",
       "5       197001010002   1970       1     1                  NaN         0   \n",
       "6       197001020001   1970       1     2                  NaN         0   \n",
       "7       197001020002   1970       1     2                  NaN         0   \n",
       "8       197001020003   1970       1     2                  NaN         0   \n",
       "9       197001030001   1970       1     3                  NaN         0   \n",
       "10      197001050001   1970       1     1                  NaN         0   \n",
       "11      197001060001   1970       1     6                  NaN         0   \n",
       "12      197001080001   1970       1     8                  NaN         0   \n",
       "13      197001090001   1970       1     9                  NaN         0   \n",
       "14      197001090002   1970       1     9                  NaN         0   \n",
       "15      197001100001   1970       1    10                  NaN         0   \n",
       "16      197001110001   1970       1    11                  NaN         0   \n",
       "17      197001120001   1970       1    12                  NaN         0   \n",
       "18      197001120002   1970       1    12                  NaN         0   \n",
       "19      197001130001   1970       1    13                  NaN         0   \n",
       "20      197001140001   1970       1    14                  NaN         0   \n",
       "21      197001150001   1970       1    15                  NaN         0   \n",
       "22      197001190002   1970       1    19                  NaN         0   \n",
       "23      197001190003   1970       1    19                  NaN         0   \n",
       "24      197001190004   1970       1    19  January 19-20, 1970         0   \n",
       "25      197001200001   1970       1    20                  NaN         0   \n",
       "26      197001210001   1970       1    21                  NaN         0   \n",
       "27      197001220001   1970       1    22                  NaN         0   \n",
       "28      197001220002   1970       1    22                  NaN         0   \n",
       "29      197001250001   1970       1    25                  NaN         0   \n",
       "...              ...    ...     ...   ...                  ...       ...   \n",
       "156742  201512310002   2015      12    31                  NaN         0   \n",
       "156743  201512310004   2015      12    31                  NaN         0   \n",
       "156744  201512310005   2015      12    31                  NaN         0   \n",
       "156745  201512310006   2015      12    31                  NaN         0   \n",
       "156746  201512310008   2015      12    31                  NaN         1   \n",
       "156747  201512310009   2015      12    31                  NaN         0   \n",
       "156748  201512310010   2015      12    31                  NaN         0   \n",
       "156749  201512310012   2015      12    31                  NaN         0   \n",
       "156750  201512310013   2015      12    31                  NaN         0   \n",
       "156751  201512310015   2015      12    31                  NaN         0   \n",
       "156752  201512310016   2015      12    31                  NaN         0   \n",
       "156753  201512310017   2015      12    31                  NaN         0   \n",
       "156754  201512310018   2015      12    31                  NaN         0   \n",
       "156755  201512310019   2015      12    31                  NaN         0   \n",
       "156756  201512310020   2015      12    31                  NaN         0   \n",
       "156757  201512310021   2015      12    31                  NaN         0   \n",
       "156758  201512310022   2015      12    31                  NaN         0   \n",
       "156759  201512310024   2015      12    31                  NaN         0   \n",
       "156760  201512310025   2015      12    31                  NaN         0   \n",
       "156761  201512310026   2015      12    31                  NaN         0   \n",
       "156762  201512310027   2015      12    31                  NaN         0   \n",
       "156763  201512310028   2015      12    31  2015-12-31 00:00:00         0   \n",
       "156764  201512310029   2015      12    31                  NaN         0   \n",
       "156765  201512310030   2015      12    31                  NaN         0   \n",
       "156766  201512310031   2015      12    31                  NaN         0   \n",
       "156767  201512310032   2015      12    31                  NaN         0   \n",
       "156768  201512310033   2015      12    31  2015-12-31 00:00:00         0   \n",
       "156769  201512310034   2015      12    31                  NaN         0   \n",
       "156770  201512310036   2015      12    31  2015-12-31 00:00:00         0   \n",
       "156771  201512310037   2015      12    31                  NaN         1   \n",
       "\n",
       "       resolution  country               country_txt  region      ...        \\\n",
       "0             NaN       58        Dominican Republic       2      ...         \n",
       "1             NaN      130                    Mexico       1      ...         \n",
       "2             NaN      160               Philippines       5      ...         \n",
       "3             NaN       78                    Greece       8      ...         \n",
       "4             NaN      101                     Japan       4      ...         \n",
       "5             NaN      217             United States       1      ...         \n",
       "6             NaN      218                   Uruguay       3      ...         \n",
       "7             NaN      217             United States       1      ...         \n",
       "8             NaN      217             United States       1      ...         \n",
       "9             NaN      217             United States       1      ...         \n",
       "10            NaN      217             United States       1      ...         \n",
       "11            NaN      217             United States       1      ...         \n",
       "12            NaN       98                     Italy       8      ...         \n",
       "13            NaN      217             United States       1      ...         \n",
       "14            NaN      217             United States       1      ...         \n",
       "15            NaN      499        East Germany (GDR)       9      ...         \n",
       "16            NaN       65                  Ethiopia      11      ...         \n",
       "17            NaN      217             United States       1      ...         \n",
       "18            NaN      217             United States       1      ...         \n",
       "19            NaN      217             United States       1      ...         \n",
       "20            NaN      217             United States       1      ...         \n",
       "21            NaN      218                   Uruguay       3      ...         \n",
       "22            NaN      217             United States       1      ...         \n",
       "23            NaN      217             United States       1      ...         \n",
       "24            NaN      217             United States       1      ...         \n",
       "25            NaN       83                 Guatemala       2      ...         \n",
       "26            NaN      160               Philippines       5      ...         \n",
       "27            NaN      222                 Venezuela       3      ...         \n",
       "28            NaN      217             United States       1      ...         \n",
       "29            NaN      217             United States       1      ...         \n",
       "...           ...      ...                       ...     ...      ...         \n",
       "156742        NaN       95                      Iraq      10      ...         \n",
       "156743        NaN       95                      Iraq      10      ...         \n",
       "156744        NaN       95                      Iraq      10      ...         \n",
       "156745        NaN       95                      Iraq      10      ...         \n",
       "156746        NaN      228                     Yemen      10      ...         \n",
       "156747        NaN      228                     Yemen      10      ...         \n",
       "156748        NaN      228                     Yemen      10      ...         \n",
       "156749        NaN      228                     Yemen      10      ...         \n",
       "156750        NaN      173              Saudi Arabia      10      ...         \n",
       "156751        NaN       60                     Egypt      10      ...         \n",
       "156752        NaN      173              Saudi Arabia      10      ...         \n",
       "156753        NaN      155  West Bank and Gaza Strip      10      ...         \n",
       "156754        NaN      209                    Turkey      10      ...         \n",
       "156755        NaN      214                   Ukraine       9      ...         \n",
       "156756        NaN       92                     India       6      ...         \n",
       "156757        NaN       75                   Germany       8      ...         \n",
       "156758        NaN       65                  Ethiopia      11      ...         \n",
       "156759        NaN      160               Philippines       5      ...         \n",
       "156760        NaN        4               Afghanistan       6      ...         \n",
       "156761        NaN      160               Philippines       5      ...         \n",
       "156762        NaN      160               Philippines       5      ...         \n",
       "156763        NaN       95                      Iraq      10      ...         \n",
       "156764        NaN      153                  Pakistan       6      ...         \n",
       "156765        NaN      153                  Pakistan       6      ...         \n",
       "156766        NaN      153                  Pakistan       6      ...         \n",
       "156767        NaN       34                   Burundi      11      ...         \n",
       "156768        NaN       96                   Ireland       8      ...         \n",
       "156769        NaN      160               Philippines       5      ...         \n",
       "156770        NaN      182                   Somalia      11      ...         \n",
       "156771    1/16/16      113                     Libya      10      ...         \n",
       "\n",
       "                                                   scite3  \\\n",
       "0                                                     NaN   \n",
       "1                                                     NaN   \n",
       "2                                                     NaN   \n",
       "3                                                     NaN   \n",
       "4                                                     NaN   \n",
       "5       Christopher Hewitt, \"Political Violence and Te...   \n",
       "6                                                     NaN   \n",
       "7                                                     NaN   \n",
       "8       The Wisconsin Cartographers' Guild, \"Wisconsin...   \n",
       "9       David Newman, Sandra Sutherland, and Jon Stewa...   \n",
       "10                                                    NaN   \n",
       "11                                                    NaN   \n",
       "12                                                    NaN   \n",
       "13                                                    NaN   \n",
       "14      \"Toward People's War for Independence and Soci...   \n",
       "15                                                    NaN   \n",
       "16                                                    NaN   \n",
       "17      Committee on Government Operations United Stat...   \n",
       "18                                                    NaN   \n",
       "19                                                    NaN   \n",
       "20      Peter F. Nardulli and Jeffrey M. Stonecash, \"P...   \n",
       "21                                                    NaN   \n",
       "22      Seattle University, \"1965-1975: Troubled Times...   \n",
       "23      Earl Caldwell, \"Fear Grows In Seattle As Polic...   \n",
       "24      \"30 Shots Fired Into Office of Panthers in Jer...   \n",
       "25                                                    NaN   \n",
       "26                                                    NaN   \n",
       "27                                                    NaN   \n",
       "28                                                    NaN   \n",
       "29                                                    NaN   \n",
       "...                                                   ...   \n",
       "156742                                                NaN   \n",
       "156743                                                NaN   \n",
       "156744  \"Terrorism: Transcript of ISIL's Al-Bayan Radi...   \n",
       "156745                                                NaN   \n",
       "156746  \"Gunmen kill senior militia leader in Yemen's ...   \n",
       "156747  \"Senior south Yemen army commander survives bo...   \n",
       "156748                                                NaN   \n",
       "156749                                                NaN   \n",
       "156750                                                NaN   \n",
       "156751  \"Egypt officials: Militants in Sinai kill enti...   \n",
       "156752                                                NaN   \n",
       "156753  \"Breaking: Soldier lightly wounded in vehicula...   \n",
       "156754                                                NaN   \n",
       "156755  \"Power transmission line tower in Kherson regi...   \n",
       "156756                                                NaN   \n",
       "156757                                                NaN   \n",
       "156758  \"Hand grenade attack kills two at Ethiopian un...   \n",
       "156759  \"HeadlinesTroops beat back BIFF assaults on 3 ...   \n",
       "156760                                                NaN   \n",
       "156761  \"HeadlinesTroops beat back BIFF assaults on 3 ...   \n",
       "156762  \"BIFF harassments, rido disrupt New Year celeb...   \n",
       "156763                                                NaN   \n",
       "156764                                                NaN   \n",
       "156765                                                NaN   \n",
       "156766                                                NaN   \n",
       "156767                                                NaN   \n",
       "156768                                                NaN   \n",
       "156769                                                NaN   \n",
       "156770                                                NaN   \n",
       "156771  \"Libya Daily Digest January 20, 2016,\" Libya D...   \n",
       "\n",
       "                        dbsource INT_LOG  INT_IDEO  INT_MISC  INT_ANY  \\\n",
       "0                           PGIS       0         0         0        0   \n",
       "1                           PGIS       0         1         1        1   \n",
       "2                           PGIS      -9        -9         1        1   \n",
       "3                           PGIS      -9        -9         1        1   \n",
       "4                           PGIS      -9        -9         1        1   \n",
       "5                 Hewitt Project      -9        -9         0       -9   \n",
       "6                           PGIS       0         0         0        0   \n",
       "7                 Hewitt Project      -9        -9         0       -9   \n",
       "8                 Hewitt Project       0         0         0        0   \n",
       "9                 Hewitt Project       0         0         0        0   \n",
       "10                          PGIS       0         0         0        0   \n",
       "11                Hewitt Project      -9        -9         0       -9   \n",
       "12                  Hijacking DB      -9        -9         1        1   \n",
       "13                Hewitt Project      -9        -9         0       -9   \n",
       "14                Hewitt Project       0         0         0        0   \n",
       "15                          PGIS       0         1         1        1   \n",
       "16                          PGIS       0         1         1        1   \n",
       "17                Hewitt Project      -9        -9         0       -9   \n",
       "18                Hewitt Project      -9        -9         0       -9   \n",
       "19                Hewitt Project      -9        -9         0       -9   \n",
       "20                Hewitt Project      -9        -9         0       -9   \n",
       "21                          PGIS       0         0         0        0   \n",
       "22                Hewitt Project      -9        -9         0       -9   \n",
       "23                Hewitt Project      -9        -9         0       -9   \n",
       "24                Hewitt Project      -9        -9         0       -9   \n",
       "25                          PGIS      -9        -9         1        1   \n",
       "26                          PGIS      -9        -9         1        1   \n",
       "27                          PGIS       0         0         0        0   \n",
       "28                Hewitt Project      -9        -9         0       -9   \n",
       "29                Hewitt Project      -9        -9         0       -9   \n",
       "...                          ...     ...       ...       ...      ...   \n",
       "156742  START Primary Collection      -9        -9         0       -9   \n",
       "156743  START Primary Collection      -9        -9         0       -9   \n",
       "156744  START Primary Collection      -9        -9         0       -9   \n",
       "156745  START Primary Collection      -9        -9         0       -9   \n",
       "156746  START Primary Collection      -9        -9         0       -9   \n",
       "156747  START Primary Collection      -9        -9         0       -9   \n",
       "156748  START Primary Collection       0         1         0        1   \n",
       "156749  START Primary Collection       0         0         0        0   \n",
       "156750  START Primary Collection       1         1         0        1   \n",
       "156751  START Primary Collection      -9        -9         0       -9   \n",
       "156752  START Primary Collection      -9        -9         0       -9   \n",
       "156753  START Primary Collection       0         0         0        0   \n",
       "156754  START Primary Collection       0         0         0        0   \n",
       "156755  START Primary Collection      -9        -9         0       -9   \n",
       "156756  START Primary Collection      -9        -9         0       -9   \n",
       "156757  START Primary Collection      -9        -9         1        1   \n",
       "156758  START Primary Collection      -9        -9         0       -9   \n",
       "156759  START Primary Collection       0         0         0        0   \n",
       "156760  START Primary Collection       0         0         0        0   \n",
       "156761  START Primary Collection       0         0         0        0   \n",
       "156762  START Primary Collection       0         0         0        0   \n",
       "156763  START Primary Collection      -9        -9         0       -9   \n",
       "156764  START Primary Collection      -9        -9         0       -9   \n",
       "156765  START Primary Collection       0         0         0        0   \n",
       "156766  START Primary Collection       0         0         0        0   \n",
       "156767  START Primary Collection      -9        -9         0       -9   \n",
       "156768  START Primary Collection      -9        -9         0       -9   \n",
       "156769  START Primary Collection      -9        -9         0       -9   \n",
       "156770  START Primary Collection       0         0         0        0   \n",
       "156771  START Primary Collection       0         1         1        1   \n",
       "\n",
       "                                         related imonth_fixed idate_fixed  \\\n",
       "0                                            NaN           01          01   \n",
       "1                                            NaN           01          01   \n",
       "2                                            NaN           01          01   \n",
       "3                                            NaN           01          01   \n",
       "4                                            NaN           01          01   \n",
       "5                                            NaN           01          01   \n",
       "6                                            NaN           01          02   \n",
       "7                                            NaN           01          02   \n",
       "8                                            NaN           01          02   \n",
       "9                                            NaN           01          03   \n",
       "10                                           NaN           01          01   \n",
       "11                                           NaN           01          06   \n",
       "12                                           NaN           01          08   \n",
       "13                                           NaN           01          09   \n",
       "14                                           NaN           01          09   \n",
       "15                                           NaN           01          10   \n",
       "16                                           NaN           01          11   \n",
       "17                                           NaN           01          12   \n",
       "18                                           NaN           01          12   \n",
       "19                                           NaN           01          13   \n",
       "20                                           NaN           01          14   \n",
       "21                                           NaN           01          15   \n",
       "22                                           NaN           01          19   \n",
       "23                                           NaN           01          19   \n",
       "24                                           NaN           01          19   \n",
       "25                                           NaN           01          20   \n",
       "26                                           NaN           01          21   \n",
       "27                                           NaN           01          22   \n",
       "28                                           NaN           01          22   \n",
       "29                                           NaN           01          25   \n",
       "...                                          ...          ...         ...   \n",
       "156742                                       NaN           12          31   \n",
       "156743                                       NaN           12          31   \n",
       "156744                                       NaN           12          31   \n",
       "156745                                       NaN           12          31   \n",
       "156746                                       NaN           12          31   \n",
       "156747                                       NaN           12          31   \n",
       "156748                                       NaN           12          31   \n",
       "156749                                       NaN           12          31   \n",
       "156750                                       NaN           12          31   \n",
       "156751                                       NaN           12          31   \n",
       "156752                                       NaN           12          31   \n",
       "156753                                       NaN           12          31   \n",
       "156754                                       NaN           12          31   \n",
       "156755                                       NaN           12          31   \n",
       "156756                                       NaN           12          31   \n",
       "156757                                       NaN           12          31   \n",
       "156758                                       NaN           12          31   \n",
       "156759  201512310024, 201512310026, 201512310027           12          31   \n",
       "156760                                       NaN           12          31   \n",
       "156761  201512310024, 201512310026, 201512310027           12          31   \n",
       "156762  201512310024, 201512310026, 201512310027           12          31   \n",
       "156763                                       NaN           12          31   \n",
       "156764                                       NaN           12          31   \n",
       "156765                                       NaN           12          31   \n",
       "156766                                       NaN           12          31   \n",
       "156767                                       NaN           12          31   \n",
       "156768                                       NaN           12          31   \n",
       "156769                                       NaN           12          31   \n",
       "156770                                       NaN           12          31   \n",
       "156771                                       NaN           12          31   \n",
       "\n",
       "        date_combined  \n",
       "0          1970-01-01  \n",
       "1          1970-01-01  \n",
       "2          1970-01-01  \n",
       "3          1970-01-01  \n",
       "4          1970-01-01  \n",
       "5          1970-01-01  \n",
       "6          1970-01-02  \n",
       "7          1970-01-02  \n",
       "8          1970-01-02  \n",
       "9          1970-01-03  \n",
       "10         1970-01-01  \n",
       "11         1970-01-06  \n",
       "12         1970-01-08  \n",
       "13         1970-01-09  \n",
       "14         1970-01-09  \n",
       "15         1970-01-10  \n",
       "16         1970-01-11  \n",
       "17         1970-01-12  \n",
       "18         1970-01-12  \n",
       "19         1970-01-13  \n",
       "20         1970-01-14  \n",
       "21         1970-01-15  \n",
       "22         1970-01-19  \n",
       "23         1970-01-19  \n",
       "24         1970-01-19  \n",
       "25         1970-01-20  \n",
       "26         1970-01-21  \n",
       "27         1970-01-22  \n",
       "28         1970-01-22  \n",
       "29         1970-01-25  \n",
       "...               ...  \n",
       "156742     2015-12-31  \n",
       "156743     2015-12-31  \n",
       "156744     2015-12-31  \n",
       "156745     2015-12-31  \n",
       "156746     2015-12-31  \n",
       "156747     2015-12-31  \n",
       "156748     2015-12-31  \n",
       "156749     2015-12-31  \n",
       "156750     2015-12-31  \n",
       "156751     2015-12-31  \n",
       "156752     2015-12-31  \n",
       "156753     2015-12-31  \n",
       "156754     2015-12-31  \n",
       "156755     2015-12-31  \n",
       "156756     2015-12-31  \n",
       "156757     2015-12-31  \n",
       "156758     2015-12-31  \n",
       "156759     2015-12-31  \n",
       "156760     2015-12-31  \n",
       "156761     2015-12-31  \n",
       "156762     2015-12-31  \n",
       "156763     2015-12-31  \n",
       "156764     2015-12-31  \n",
       "156765     2015-12-31  \n",
       "156766     2015-12-31  \n",
       "156767     2015-12-31  \n",
       "156768     2015-12-31  \n",
       "156769     2015-12-31  \n",
       "156770     2015-12-31  \n",
       "156771     2015-12-31  \n",
       "\n",
       "[156772 rows x 140 columns]"
      ]
     },
     "execution_count": 98,
     "metadata": {},
     "output_type": "execute_result"
    }
   ],
   "source": []
  },
  {
   "cell_type": "code",
   "execution_count": null,
   "metadata": {
    "collapsed": true
   },
   "outputs": [],
   "source": []
  },
  {
   "cell_type": "markdown",
   "metadata": {},
   "source": [
    "## Visualizing the Data - over time"
   ]
  },
  {
   "cell_type": "markdown",
   "metadata": {},
   "source": [
    "### How has the number of terrorist attacks changed over time?"
   ]
  },
  {
   "cell_type": "code",
   "execution_count": 22,
   "metadata": {
    "collapsed": true
   },
   "outputs": [],
   "source": [
    "years = df.iyear.value_counts()"
   ]
  },
  {
   "cell_type": "code",
   "execution_count": 23,
   "metadata": {},
   "outputs": [
    {
     "data": {
      "text/plain": [
       "dtype('int64')"
      ]
     },
     "execution_count": 23,
     "metadata": {},
     "output_type": "execute_result"
    }
   ],
   "source": [
    "years.dtype"
   ]
  },
  {
   "cell_type": "code",
   "execution_count": 24,
   "metadata": {
    "collapsed": true,
    "scrolled": true
   },
   "outputs": [],
   "source": [
    "years = pd.DataFrame(years)"
   ]
  },
  {
   "cell_type": "code",
   "execution_count": 25,
   "metadata": {
    "collapsed": true
   },
   "outputs": [],
   "source": [
    "years = years.reset_index(inplace=False)"
   ]
  },
  {
   "cell_type": "code",
   "execution_count": 26,
   "metadata": {},
   "outputs": [
    {
     "data": {
      "text/html": [
       "<div>\n",
       "<table border=\"1\" class=\"dataframe\">\n",
       "  <thead>\n",
       "    <tr style=\"text-align: right;\">\n",
       "      <th></th>\n",
       "      <th>index</th>\n",
       "      <th>iyear</th>\n",
       "    </tr>\n",
       "  </thead>\n",
       "  <tbody>\n",
       "    <tr>\n",
       "      <th>0</th>\n",
       "      <td>2014</td>\n",
       "      <td>16840</td>\n",
       "    </tr>\n",
       "    <tr>\n",
       "      <th>1</th>\n",
       "      <td>2015</td>\n",
       "      <td>14806</td>\n",
       "    </tr>\n",
       "    <tr>\n",
       "      <th>2</th>\n",
       "      <td>2013</td>\n",
       "      <td>11990</td>\n",
       "    </tr>\n",
       "    <tr>\n",
       "      <th>3</th>\n",
       "      <td>2012</td>\n",
       "      <td>8498</td>\n",
       "    </tr>\n",
       "    <tr>\n",
       "      <th>4</th>\n",
       "      <td>1992</td>\n",
       "      <td>5073</td>\n",
       "    </tr>\n",
       "  </tbody>\n",
       "</table>\n",
       "</div>"
      ],
      "text/plain": [
       "   index  iyear\n",
       "0   2014  16840\n",
       "1   2015  14806\n",
       "2   2013  11990\n",
       "3   2012   8498\n",
       "4   1992   5073"
      ]
     },
     "execution_count": 26,
     "metadata": {},
     "output_type": "execute_result"
    }
   ],
   "source": [
    "years.head()"
   ]
  },
  {
   "cell_type": "code",
   "execution_count": 27,
   "metadata": {
    "collapsed": true
   },
   "outputs": [],
   "source": [
    "years.columns=['year','attacks']"
   ]
  },
  {
   "cell_type": "code",
   "execution_count": 28,
   "metadata": {},
   "outputs": [
    {
     "data": {
      "text/plain": [
       "<matplotlib.figure.Figure at 0x11c4418d0>"
      ]
     },
     "execution_count": 28,
     "metadata": {},
     "output_type": "execute_result"
    },
    {
     "data": {
      "image/png": "[encoded data removed]",
      "text/plain": [
       "<matplotlib.figure.Figure at 0x11c4417d0>"
      ]
     },
     "metadata": {},
     "output_type": "display_data"
    },
    {
     "data": {
      "text/plain": [
       "<matplotlib.figure.Figure at 0x11c4418d0>"
      ]
     },
     "metadata": {},
     "output_type": "display_data"
    }
   ],
   "source": [
    "sns.tsplot(years['attacks'], years['year'])\n",
    "plt.figure(figsize=(20, 15))"
   ]
  },
  {
   "cell_type": "markdown",
   "metadata": {},
   "source": [
    "# Transform the Data"
   ]
  },
  {
   "cell_type": "markdown",
   "metadata": {},
   "source": [
    "This is all really useful, but I think looking at individual attacks will not be useful.  What I'd like to do is create some dummie variables to make it easier to sort and transform"
   ]
  },
  {
   "cell_type": "code",
   "execution_count": null,
   "metadata": {
    "collapsed": true
   },
   "outputs": [],
   "source": [
    "pd.t"
   ]
  },
  {
   "cell_type": "code",
   "execution_count": null,
   "metadata": {
    "collapsed": true
   },
   "outputs": [],
   "source": []
  },
  {
   "cell_type": "code",
   "execution_count": null,
   "metadata": {
    "collapsed": true
   },
   "outputs": [],
   "source": []
  },
  {
   "cell_type": "code",
   "execution_count": null,
   "metadata": {
    "collapsed": true
   },
   "outputs": [],
   "source": []
  },
  {
   "cell_type": "markdown",
   "metadata": {
    "collapsed": true
   },
   "source": [
    "### What does the attack type tell us?"
   ]
  },
  {
   "cell_type": "code",
   "execution_count": null,
   "metadata": {
    "collapsed": true
   },
   "outputs": [],
   "source": [
    "attacktype= df.groupby(by=['iyear'], [''])"
   ]
  },
  {
   "cell_type": "code",
   "execution_count": 29,
   "metadata": {
    "collapsed": true
   },
   "outputs": [],
   "source": [
    "types = df.attacktype1.value_counts()"
   ]
  },
  {
   "cell_type": "code",
   "execution_count": 30,
   "metadata": {},
   "outputs": [
    {
     "data": {
      "text/plain": [
       "<matplotlib.axes._subplots.AxesSubplot at 0x10fdeb550>"
      ]
     },
     "execution_count": 30,
     "metadata": {},
     "output_type": "execute_result"
    },
    {
     "data": {
      "image/png": "[encoded data removed]",
      "text/plain": [
       "<matplotlib.figure.Figure at 0x10f7bb510>"
      ]
     },
     "metadata": {},
     "output_type": "display_data"
    }
   ],
   "source": [
    "sns.barplot(x=types.index, y=types)\n"
   ]
  },
  {
   "cell_type": "markdown",
   "metadata": {},
   "source": [
    "Based on the codebook, the most common type of attacks are:\n",
    "\n",
    "75963 - Bombings\n",
    "\n",
    "37554 - Armed Assault\n",
    "\n",
    "17582 - Assassination\n",
    "\n",
    "9115 - Kidnapping\n",
    "\n",
    "8849 - Facility/Infrastructure attack\n",
    "\n",
    "5490 - Unknown\n",
    "\n",
    "835 - Hostage Taking\n",
    "\n",
    "828 - Unarmed Assault\n",
    "\n",
    "556 - Hijacking "
   ]
  },
  {
   "cell_type": "code",
   "execution_count": null,
   "metadata": {
    "collapsed": true
   },
   "outputs": [],
   "source": []
  },
  {
   "cell_type": "markdown",
   "metadata": {
    "collapsed": true
   },
   "source": [
    "### What can we learn about locations?"
   ]
  },
  {
   "cell_type": "code",
   "execution_count": 31,
   "metadata": {
    "collapsed": true
   },
   "outputs": [],
   "source": [
    "locs = df.region.value_counts()"
   ]
  },
  {
   "cell_type": "code",
   "execution_count": 32,
   "metadata": {},
   "outputs": [
    {
     "data": {
      "text/plain": [
       "10    40422\n",
       "6     37841\n",
       "3     18628\n",
       "8     16020\n",
       "11    13434\n",
       "5     10360\n",
       "2     10337\n",
       "9      4892\n",
       "1      3268\n",
       "4       786\n",
       "7       538\n",
       "12      246\n",
       "Name: region, dtype: int64"
      ]
     },
     "execution_count": 32,
     "metadata": {},
     "output_type": "execute_result"
    }
   ],
   "source": [
    "locs"
   ]
  },
  {
   "cell_type": "code",
   "execution_count": 33,
   "metadata": {},
   "outputs": [
    {
     "data": {
      "text/plain": [
       "<matplotlib.axes._subplots.AxesSubplot at 0x10fdeb510>"
      ]
     },
     "execution_count": 33,
     "metadata": {},
     "output_type": "execute_result"
    },
    {
     "data": {
      "image/png": "[encoded data removed]",
      "text/plain": [
       "<matplotlib.figure.Figure at 0x11b70b3d0>"
      ]
     },
     "metadata": {},
     "output_type": "display_data"
    }
   ],
   "source": [
    "sns.barplot(x=locs.index, y=locs)\n"
   ]
  },
  {
   "cell_type": "markdown",
   "metadata": {},
   "source": [
    "### Regions with the most attacks:\n",
    "\n",
    "Middle East and North Africa 40422    \n",
    "\n",
    "South Asia 37841\n",
    "\n",
    "South America 18628\n",
    "\n",
    "Western Europe 16020\n",
    "\n",
    "Sub-Saharan Africa 13434\n",
    "\n",
    "Southeast Asia 10360\n",
    "\n",
    "Central American & Carribean     10337\n",
    "\n",
    "Eastern Europe 4892\n",
    "\n",
    "North America 3268\n",
    "\n",
    "East Asia 786\n",
    "\n",
    "Central Asia 538\n",
    "\n",
    "Australia and Oceania      246\n"
   ]
  },
  {
   "cell_type": "markdown",
   "metadata": {},
   "source": [
    "### Attack type by location"
   ]
  },
  {
   "cell_type": "code",
   "execution_count": null,
   "metadata": {
    "collapsed": true
   },
   "outputs": [],
   "source": []
  },
  {
   "cell_type": "code",
   "execution_count": null,
   "metadata": {
    "collapsed": true
   },
   "outputs": [],
   "source": []
  },
  {
   "cell_type": "code",
   "execution_count": null,
   "metadata": {
    "collapsed": true
   },
   "outputs": [],
   "source": []
  },
  {
   "cell_type": "markdown",
   "metadata": {},
   "source": [
    "# Part 2 - Bayesian Inference "
   ]
  },
  {
   "cell_type": "markdown",
   "metadata": {},
   "source": [
    "I want to compare the distribution of the ratio of military terrorist attacks in Pakistan before 2003 to the ratio after 2003.\n",
    "\n",
    "My prior will be the distribution of terrorist attacks in Afghanistan from the same period.\n"
   ]
  },
  {
   "cell_type": "code",
   "execution_count": 40,
   "metadata": {
    "collapsed": true
   },
   "outputs": [],
   "source": [
    "# first let's take a dataset that's just attacks in Pakistan\n",
    "\n",
    "df_pakistan = df[df.country == 153]"
   ]
  },
  {
   "cell_type": "code",
   "execution_count": 41,
   "metadata": {},
   "outputs": [
    {
     "data": {
      "text/plain": [
       "(12768, 140)"
      ]
     },
     "execution_count": 41,
     "metadata": {},
     "output_type": "execute_result"
    }
   ],
   "source": [
    "df_pakistan.shape\n",
    "#12768 attacks"
   ]
  },
  {
   "cell_type": "code",
   "execution_count": 36,
   "metadata": {},
   "outputs": [
    {
     "data": {
      "text/plain": [
       "0.08144311484193606"
      ]
     },
     "execution_count": 36,
     "metadata": {},
     "output_type": "execute_result"
    }
   ],
   "source": [
    "12768/156772.\n",
    "# wow, 8% of the total terrorism data is from pakistan"
   ]
  },
  {
   "cell_type": "code",
   "execution_count": 495,
   "metadata": {},
   "outputs": [
    {
     "data": {
      "text/html": [
       "<div>\n",
       "<table border=\"1\" class=\"dataframe\">\n",
       "  <thead>\n",
       "    <tr style=\"text-align: right;\">\n",
       "      <th></th>\n",
       "      <th>eventid</th>\n",
       "      <th>iyear</th>\n",
       "      <th>imonth</th>\n",
       "      <th>iday</th>\n",
       "      <th>approxdate</th>\n",
       "      <th>extended</th>\n",
       "      <th>resolution</th>\n",
       "      <th>country</th>\n",
       "      <th>country_txt</th>\n",
       "      <th>region</th>\n",
       "      <th>...</th>\n",
       "      <th>scite3</th>\n",
       "      <th>dbsource</th>\n",
       "      <th>INT_LOG</th>\n",
       "      <th>INT_IDEO</th>\n",
       "      <th>INT_MISC</th>\n",
       "      <th>INT_ANY</th>\n",
       "      <th>related</th>\n",
       "      <th>imonth_fixed</th>\n",
       "      <th>idate_fixed</th>\n",
       "      <th>date_combined</th>\n",
       "    </tr>\n",
       "  </thead>\n",
       "  <tbody>\n",
       "    <tr>\n",
       "      <th>48290</th>\n",
       "      <td>199110030001</td>\n",
       "      <td>1991</td>\n",
       "      <td>10</td>\n",
       "      <td>3</td>\n",
       "      <td>NaN</td>\n",
       "      <td>0</td>\n",
       "      <td>NaN</td>\n",
       "      <td>153</td>\n",
       "      <td>Pakistan</td>\n",
       "      <td>6</td>\n",
       "      <td>...</td>\n",
       "      <td>NaN</td>\n",
       "      <td>PGIS</td>\n",
       "      <td>-9</td>\n",
       "      <td>-9</td>\n",
       "      <td>0</td>\n",
       "      <td>-9</td>\n",
       "      <td>NaN</td>\n",
       "      <td>10</td>\n",
       "      <td>03</td>\n",
       "      <td>1991-10-03</td>\n",
       "    </tr>\n",
       "    <tr>\n",
       "      <th>49074</th>\n",
       "      <td>199111170015</td>\n",
       "      <td>1991</td>\n",
       "      <td>11</td>\n",
       "      <td>17</td>\n",
       "      <td>NaN</td>\n",
       "      <td>1</td>\n",
       "      <td>11/24/91</td>\n",
       "      <td>153</td>\n",
       "      <td>Pakistan</td>\n",
       "      <td>6</td>\n",
       "      <td>...</td>\n",
       "      <td>NaN</td>\n",
       "      <td>PGIS</td>\n",
       "      <td>-9</td>\n",
       "      <td>-9</td>\n",
       "      <td>0</td>\n",
       "      <td>-9</td>\n",
       "      <td>NaN</td>\n",
       "      <td>11</td>\n",
       "      <td>17</td>\n",
       "      <td>1991-11-17</td>\n",
       "    </tr>\n",
       "    <tr>\n",
       "      <th>51299</th>\n",
       "      <td>199205090018</td>\n",
       "      <td>1992</td>\n",
       "      <td>5</td>\n",
       "      <td>9</td>\n",
       "      <td>NaN</td>\n",
       "      <td>0</td>\n",
       "      <td>NaN</td>\n",
       "      <td>153</td>\n",
       "      <td>Pakistan</td>\n",
       "      <td>6</td>\n",
       "      <td>...</td>\n",
       "      <td>NaN</td>\n",
       "      <td>PGIS</td>\n",
       "      <td>0</td>\n",
       "      <td>0</td>\n",
       "      <td>0</td>\n",
       "      <td>0</td>\n",
       "      <td>NaN</td>\n",
       "      <td>05</td>\n",
       "      <td>09</td>\n",
       "      <td>1992-05-09</td>\n",
       "    </tr>\n",
       "    <tr>\n",
       "      <th>51941</th>\n",
       "      <td>199207030010</td>\n",
       "      <td>1992</td>\n",
       "      <td>7</td>\n",
       "      <td>3</td>\n",
       "      <td>NaN</td>\n",
       "      <td>0</td>\n",
       "      <td>NaN</td>\n",
       "      <td>153</td>\n",
       "      <td>Pakistan</td>\n",
       "      <td>6</td>\n",
       "      <td>...</td>\n",
       "      <td>NaN</td>\n",
       "      <td>PGIS</td>\n",
       "      <td>-9</td>\n",
       "      <td>-9</td>\n",
       "      <td>0</td>\n",
       "      <td>-9</td>\n",
       "      <td>NaN</td>\n",
       "      <td>07</td>\n",
       "      <td>03</td>\n",
       "      <td>1992-07-03</td>\n",
       "    </tr>\n",
       "    <tr>\n",
       "      <th>58420</th>\n",
       "      <td>199502140007</td>\n",
       "      <td>1995</td>\n",
       "      <td>2</td>\n",
       "      <td>14</td>\n",
       "      <td>NaN</td>\n",
       "      <td>0</td>\n",
       "      <td>NaN</td>\n",
       "      <td>153</td>\n",
       "      <td>Pakistan</td>\n",
       "      <td>6</td>\n",
       "      <td>...</td>\n",
       "      <td>NaN</td>\n",
       "      <td>PGIS</td>\n",
       "      <td>-9</td>\n",
       "      <td>-9</td>\n",
       "      <td>1</td>\n",
       "      <td>1</td>\n",
       "      <td>NaN</td>\n",
       "      <td>02</td>\n",
       "      <td>14</td>\n",
       "      <td>1995-02-14</td>\n",
       "    </tr>\n",
       "  </tbody>\n",
       "</table>\n",
       "<p>5 rows × 140 columns</p>\n",
       "</div>"
      ],
      "text/plain": [
       "            eventid  iyear  imonth  iday approxdate  extended resolution  \\\n",
       "48290  199110030001   1991      10     3        NaN         0        NaN   \n",
       "49074  199111170015   1991      11    17        NaN         1   11/24/91   \n",
       "51299  199205090018   1992       5     9        NaN         0        NaN   \n",
       "51941  199207030010   1992       7     3        NaN         0        NaN   \n",
       "58420  199502140007   1995       2    14        NaN         0        NaN   \n",
       "\n",
       "       country country_txt  region      ...       scite3 dbsource INT_LOG  \\\n",
       "48290      153    Pakistan       6      ...          NaN     PGIS      -9   \n",
       "49074      153    Pakistan       6      ...          NaN     PGIS      -9   \n",
       "51299      153    Pakistan       6      ...          NaN     PGIS       0   \n",
       "51941      153    Pakistan       6      ...          NaN     PGIS      -9   \n",
       "58420      153    Pakistan       6      ...          NaN     PGIS      -9   \n",
       "\n",
       "       INT_IDEO  INT_MISC  INT_ANY  related imonth_fixed idate_fixed  \\\n",
       "48290        -9         0       -9      NaN           10          03   \n",
       "49074        -9         0       -9      NaN           11          17   \n",
       "51299         0         0        0      NaN           05          09   \n",
       "51941        -9         0       -9      NaN           07          03   \n",
       "58420        -9         1        1      NaN           02          14   \n",
       "\n",
       "       date_combined  \n",
       "48290     1991-10-03  \n",
       "49074     1991-11-17  \n",
       "51299     1992-05-09  \n",
       "51941     1992-07-03  \n",
       "58420     1995-02-14  \n",
       "\n",
       "[5 rows x 140 columns]"
      ]
     },
     "execution_count": 495,
     "metadata": {},
     "output_type": "execute_result"
    }
   ],
   "source": [
    "df_pre_2003_military.head()"
   ]
  },
  {
   "cell_type": "code",
   "execution_count": 514,
   "metadata": {},
   "outputs": [],
   "source": [
    "### Pre-2003 ratio of terrorist attacks to all attacks\n",
    "df_pre_2003 = df_pakistan[(df_pakistan.iyear < 2003) & (df_pakistan.iyear > 1990)]\n",
    "# df_pre_2003_military = df_pre_2003[df_pre_2003.targtype1 == 4]\n",
    "df_pre_2003_civilian = df_pre_2003[df_pre_2003.targtype1 == 14]\n",
    "# df_pre_values_mil = df_pre_2003_military.iyear.groupby(df_pre_2003_military['iyear']).value_counts()\n",
    "df_pre_values_civ = df_pre_2003_civilian.iyear.groupby(df_pre_2003_civilian['iyear']).value_counts()\n"
   ]
  },
  {
   "cell_type": "code",
   "execution_count": 515,
   "metadata": {},
   "outputs": [],
   "source": [
    "# combined_pre = pd.DataFrame([df_pre_values_mil,df_pre_values_civ ]).T\n",
    "# combined_pre.reset_index(level=1,inplace=True)"
   ]
  },
  {
   "cell_type": "code",
   "execution_count": 520,
   "metadata": {},
   "outputs": [],
   "source": [
    "### Post 2003 ratio of terrorist attacks to all attacks\n",
    "\n",
    "df_post_2003 = df_pakistan[(df_pakistan.iyear >= 2003)]\n",
    "# df_post_2003_military = df_post_2003[df_post_2003.targtype1 == 4]\n",
    "df_post_2003_civilian = df_post_2003[df_post_2003.targtype1 == 14]\n",
    "# df_post_values_mil = df_post_2003_military.iyear.groupby(df_post_2003_military['iyear']).value_counts()\n",
    "df_post_values_civ = df_post_2003_civilian.iyear.groupby(df_post_2003_civilian['iyear']).value_counts()\n"
   ]
  },
  {
   "cell_type": "code",
   "execution_count": 521,
   "metadata": {},
   "outputs": [
    {
     "data": {
      "text/plain": [
       "iyear  iyear\n",
       "2003   2003       3\n",
       "2004   2004       9\n",
       "2005   2005      12\n",
       "2006   2006      38\n",
       "2007   2007      43\n",
       "2008   2008     204\n",
       "2009   2009     217\n",
       "2010   2010     205\n",
       "2011   2011     250\n",
       "2012   2012     340\n",
       "2013   2013     477\n",
       "2014   2014     381\n",
       "2015   2015     206\n",
       "Name: iyear, dtype: int64"
      ]
     },
     "execution_count": 521,
     "metadata": {},
     "output_type": "execute_result"
    }
   ],
   "source": [
    "df_post_values_civ"
   ]
  },
  {
   "cell_type": "code",
   "execution_count": 550,
   "metadata": {},
   "outputs": [
    {
     "data": {
      "text/plain": [
       "(array([ 5.,  0.,  0.,  0.,  4.,  1.,  0.,  2.,  0.,  1.]),\n",
       " array([   3. ,   50.4,   97.8,  145.2,  192.6,  240. ,  287.4,  334.8,\n",
       "         382.2,  429.6,  477. ]),\n",
       " <a list of 10 Patch objects>)"
      ]
     },
     "execution_count": 550,
     "metadata": {},
     "output_type": "execute_result"
    },
    {
     "data": {
      "image/png": "[encoded data removed]",
      "text/plain": [
       "<matplotlib.figure.Figure at 0x15d258690>"
      ]
     },
     "metadata": {},
     "output_type": "display_data"
    }
   ],
   "source": [
    "plt.hist(df_post_values_civ)"
   ]
  },
  {
   "cell_type": "code",
   "execution_count": 522,
   "metadata": {},
   "outputs": [
    {
     "data": {
      "text/plain": [
       "iyear  iyear\n",
       "1991   1991      58\n",
       "1992   1992      24\n",
       "1994   1994      56\n",
       "1995   1995     327\n",
       "1996   1996      64\n",
       "1997   1997      58\n",
       "1998   1998       7\n",
       "1999   1999       9\n",
       "2000   2000      17\n",
       "2001   2001      18\n",
       "2002   2002       8\n",
       "Name: iyear, dtype: int64"
      ]
     },
     "execution_count": 522,
     "metadata": {},
     "output_type": "execute_result"
    }
   ],
   "source": [
    "df_pre_values_civ"
   ]
  },
  {
   "cell_type": "code",
   "execution_count": 534,
   "metadata": {},
   "outputs": [],
   "source": [
    "## Now I need to set my prior distribution:\n",
    "\n",
    "df_afghanistan = df[(df.country == 4) & (df.targtype1 == 14)]\n",
    "df_af_values = df_afghanistan.iyear.groupby(df_afghanistan['iyear']).value_counts()\n",
    "mean_prior_mean = df_af_values.mean()\n",
    "mean_prior_std = df_af_values.std()"
   ]
  },
  {
   "cell_type": "code",
   "execution_count": 535,
   "metadata": {},
   "outputs": [],
   "source": [
    "with pm.Model() as model:\n",
    "\n",
    "    pre_mean = pm.Normal('pre_mean', mean_prior_mean, sd=mean_prior_std)\n",
    "    post_mean = pm.Normal('post_mean', mean_prior_mean, sd=mean_prior_std)\n"
   ]
  },
  {
   "cell_type": "code",
   "execution_count": 536,
   "metadata": {},
   "outputs": [],
   "source": [
    "std_prior_lower = 0.01\n",
    "std_prior_upper = 100.0\n",
    "\n",
    "with model:\n",
    "    \n",
    "    pre_std = pm.Uniform('pre_std', lower=std_prior_lower, upper=std_prior_upper)\n",
    "    post_std = pm.Uniform('post_std', lower=std_prior_lower, upper=std_prior_upper)"
   ]
  },
  {
   "cell_type": "code",
   "execution_count": 537,
   "metadata": {
    "collapsed": true
   },
   "outputs": [],
   "source": [
    "with model:\n",
    "\n",
    "    grpt = pm.Normal('group_pre', mu=pre_mean, sd=pre_std, observed=df_pre_values_civ)\n",
    "    grpaq = pm.Normal('group_post', mu=post_mean, sd=post_std, observed=df_post_values_civ)\n"
   ]
  },
  {
   "cell_type": "code",
   "execution_count": 538,
   "metadata": {},
   "outputs": [],
   "source": [
    "with model:\n",
    "\n",
    "    diff_of_means = pm.Deterministic('difference of means', pre_mean - post_mean)\n",
    "    diff_of_stds = pm.Deterministic('difference of stds', pre_std - post_std)\n",
    "    effect_size = pm.Deterministic('effect size',\n",
    "                                   diff_of_means / np.sqrt((pre_std**2 + post_std**2) / 2))"
   ]
  },
  {
   "cell_type": "code",
   "execution_count": 539,
   "metadata": {},
   "outputs": [
    {
     "name": "stderr",
     "output_type": "stream",
     "text": [
      "Auto-assigning NUTS sampler...\n",
      "Initializing NUTS using advi...\n",
      "Average ELBO = -162.51: 100%|██████████| 200000/200000 [00:22<00:00, 8863.22it/s] \n",
      "Finished [100%]: Average ELBO = -162.1\n",
      "100%|██████████| 20000/20000 [02:04<00:00, 160.03it/s]\n"
     ]
    }
   ],
   "source": [
    "with model:\n",
    "    trace = pm.sample(20000, njobs=4)\n"
   ]
  },
  {
   "cell_type": "code",
   "execution_count": 542,
   "metadata": {},
   "outputs": [
    {
     "data": {
      "text/plain": [
       "array([<matplotlib.axes._subplots.AxesSubplot object at 0x161e1cf10>,\n",
       "       <matplotlib.axes._subplots.AxesSubplot object at 0x161ff9a50>,\n",
       "       <matplotlib.axes._subplots.AxesSubplot object at 0x162074e10>,\n",
       "       <matplotlib.axes._subplots.AxesSubplot object at 0x1620e8710>], dtype=object)"
      ]
     },
     "execution_count": 542,
     "metadata": {},
     "output_type": "execute_result"
    },
    {
     "data": {
      "image/png": "[encoded data removed]",
      "text/plain": [
       "<matplotlib.figure.Figure at 0x15c430b50>"
      ]
     },
     "metadata": {},
     "output_type": "display_data"
    }
   ],
   "source": [
    "pm.plot_posterior(trace[3000:],\n",
    "                  varnames=['pre_mean', 'post_mean', 'pre_std', 'post_std'],\n",
    "                  color='#87ceeb')"
   ]
  },
  {
   "cell_type": "code",
   "execution_count": 541,
   "metadata": {},
   "outputs": [
    {
     "data": {
      "text/plain": [
       "array([<matplotlib.axes._subplots.AxesSubplot object at 0x15c45e8d0>,\n",
       "       <matplotlib.axes._subplots.AxesSubplot object at 0x165c84210>,\n",
       "       <matplotlib.axes._subplots.AxesSubplot object at 0x15d593e90>], dtype=object)"
      ]
     },
     "execution_count": 541,
     "metadata": {},
     "output_type": "execute_result"
    },
    {
     "data": {
      "image/png": "[encoded data removed]",
      "text/plain": [
       "<matplotlib.figure.Figure at 0x1662024d0>"
      ]
     },
     "metadata": {},
     "output_type": "display_data"
    }
   ],
   "source": [
    "pm.plot_posterior(trace[3000:],\n",
    "                  varnames=['difference of means', 'difference of stds', 'effect size'],\n",
    "                  ref_val=0,\n",
    "                  color='#87ceeb')\n"
   ]
  },
  {
   "cell_type": "markdown",
   "metadata": {},
   "source": [
    "What does this tell us?  The means of the pre -2003 civilian attack frequencies and the post- 2003 civilian attack frequencies are different.  The standard deviation is not within the credible interval. Null hypothesis says they are the same, so we can reject it. based on the actual observed data\n",
    "\n",
    "credible vs. confidence interval\n",
    "\n",
    "Standard deviation is not different - "
   ]
  },
  {
   "cell_type": "code",
   "execution_count": null,
   "metadata": {
    "collapsed": true
   },
   "outputs": [],
   "source": []
  },
  {
   "cell_type": "code",
   "execution_count": null,
   "metadata": {
    "collapsed": true
   },
   "outputs": [],
   "source": []
  },
  {
   "cell_type": "code",
   "execution_count": null,
   "metadata": {
    "collapsed": true
   },
   "outputs": [],
   "source": []
  },
  {
   "cell_type": "code",
   "execution_count": null,
   "metadata": {
    "collapsed": true
   },
   "outputs": [],
   "source": []
  },
  {
   "cell_type": "code",
   "execution_count": null,
   "metadata": {
    "collapsed": true
   },
   "outputs": [],
   "source": []
  },
  {
   "cell_type": "code",
   "execution_count": 545,
   "metadata": {},
   "outputs": [
    {
     "data": {
      "text/plain": [
       "array([[<matplotlib.axes._subplots.AxesSubplot object at 0x1620ffc10>,\n",
       "        <matplotlib.axes._subplots.AxesSubplot object at 0x16285c410>],\n",
       "       [<matplotlib.axes._subplots.AxesSubplot object at 0x1628d9610>,\n",
       "        <matplotlib.axes._subplots.AxesSubplot object at 0x16295b590>],\n",
       "       [<matplotlib.axes._subplots.AxesSubplot object at 0x16682e390>,\n",
       "        <matplotlib.axes._subplots.AxesSubplot object at 0x1668b1750>],\n",
       "       [<matplotlib.axes._subplots.AxesSubplot object at 0x166923110>,\n",
       "        <matplotlib.axes._subplots.AxesSubplot object at 0x1669a5690>],\n",
       "       [<matplotlib.axes._subplots.AxesSubplot object at 0x1669b4c90>,\n",
       "        <matplotlib.axes._subplots.AxesSubplot object at 0x166a9a650>],\n",
       "       [<matplotlib.axes._subplots.AxesSubplot object at 0x166b21790>,\n",
       "        <matplotlib.axes._subplots.AxesSubplot object at 0x166b92310>],\n",
       "       [<matplotlib.axes._subplots.AxesSubplot object at 0x166c17450>,\n",
       "        <matplotlib.axes._subplots.AxesSubplot object at 0x166771ad0>]], dtype=object)"
      ]
     },
     "execution_count": 545,
     "metadata": {},
     "output_type": "execute_result"
    },
    {
     "data": {
      "image/png": "[encoded data removed]",
      "text/plain": [
       "<matplotlib.figure.Figure at 0x1658e51d0>"
      ]
     },
     "metadata": {},
     "output_type": "display_data"
    }
   ],
   "source": [
    "from pymc3 import traceplot\n",
    "\n",
    "traceplot(trace)"
   ]
  },
  {
   "cell_type": "code",
   "execution_count": 543,
   "metadata": {},
   "outputs": [
    {
     "name": "stdout",
     "output_type": "stream",
     "text": [
      "\n",
      "difference of means:\n",
      "\n",
      "  Mean             SD               MC Error         95% HPD interval\n",
      "  -------------------------------------------------------------------\n",
      "  \n",
      "  -118.476         35.928           0.141            [-187.456, -46.540]\n",
      "\n",
      "  Posterior quantiles:\n",
      "  2.5            25             50             75             97.5\n",
      "  |--------------|==============|==============|--------------|\n",
      "  \n",
      "  -188.903       -142.601       -118.508       -94.515        -47.789\n",
      "\n",
      "\n",
      "difference of stds:\n",
      "\n",
      "  Mean             SD               MC Error         95% HPD interval\n",
      "  -------------------------------------------------------------------\n",
      "  \n",
      "  -11.248          10.576           0.054            [-32.858, 6.736]\n",
      "\n",
      "  Posterior quantiles:\n",
      "  2.5            25             50             75             97.5\n",
      "  |--------------|==============|==============|--------------|\n",
      "  \n",
      "  -33.238        -18.585        -10.288        -3.078         6.473\n",
      "\n",
      "\n",
      "effect size:\n",
      "\n",
      "  Mean             SD               MC Error         95% HPD interval\n",
      "  -------------------------------------------------------------------\n",
      "  \n",
      "  -1.313           0.403            0.002            [-2.078, -0.495]\n",
      "\n",
      "  Posterior quantiles:\n",
      "  2.5            25             50             75             97.5\n",
      "  |--------------|==============|==============|--------------|\n",
      "  \n",
      "  -2.104         -1.584         -1.312         -1.044         -0.521\n",
      "\n"
     ]
    }
   ],
   "source": [
    "pm.summary(trace[3000:],\n",
    "           varnames=['difference of means', 'difference of stds', 'effect size'])\n"
   ]
  },
  {
   "cell_type": "code",
   "execution_count": null,
   "metadata": {
    "collapsed": true
   },
   "outputs": [],
   "source": []
  },
  {
   "cell_type": "code",
   "execution_count": null,
   "metadata": {
    "collapsed": true
   },
   "outputs": [],
   "source": []
  },
  {
   "cell_type": "code",
   "execution_count": null,
   "metadata": {
    "collapsed": true
   },
   "outputs": [],
   "source": []
  },
  {
   "cell_type": "code",
   "execution_count": null,
   "metadata": {},
   "outputs": [],
   "source": []
  },
  {
   "cell_type": "code",
   "execution_count": null,
   "metadata": {},
   "outputs": [],
   "source": []
  },
  {
   "cell_type": "code",
   "execution_count": null,
   "metadata": {
    "collapsed": true
   },
   "outputs": [],
   "source": []
  },
  {
   "cell_type": "markdown",
   "metadata": {
    "collapsed": true
   },
   "source": [
    "# PART 3"
   ]
  },
  {
   "cell_type": "markdown",
   "metadata": {
    "collapsed": true
   },
   "source": [
    "For this section, you should determine a methodology that allows you to best fill in the missing values. Perhaps you want to consider hemispheres to be separate models, for example. (That's the only hint you'll receive - and even that hint is not an optimal option.)\n",
    "\n",
    "Once you've created your methodology and imputed the number of bombings in 1993, you should feel free to apply your methodology to **OTHER** attack categories. (Bonus opportunity: turn your method into a pipeline. Use that pipeline to fill in other missing attack values.)\n"
   ]
  },
  {
   "cell_type": "code",
   "execution_count": 421,
   "metadata": {
    "collapsed": true
   },
   "outputs": [],
   "source": [
    "# I need to predict the number of bombings from 1993, so first I need to create a dataframe of just bombings"
   ]
  },
  {
   "cell_type": "code",
   "execution_count": 422,
   "metadata": {
    "collapsed": true
   },
   "outputs": [],
   "source": [
    "bombings =df[df['attacktype1']==3]"
   ]
  },
  {
   "cell_type": "code",
   "execution_count": 423,
   "metadata": {},
   "outputs": [],
   "source": [
    "# bombings.iyear= pd.to_datetime(bombings)"
   ]
  },
  {
   "cell_type": "code",
   "execution_count": 424,
   "metadata": {},
   "outputs": [],
   "source": [
    "bombings_final = bombings.iyear.value_counts().sort_index()"
   ]
  },
  {
   "cell_type": "code",
   "execution_count": 425,
   "metadata": {},
   "outputs": [
    {
     "data": {
      "text/plain": [
       "<matplotlib.axes._subplots.AxesSubplot at 0x15d6c0a10>"
      ]
     },
     "execution_count": 425,
     "metadata": {},
     "output_type": "execute_result"
    },
    {
     "data": {
      "image/png": "[encoded data removed]",
      "text/plain": [
       "<matplotlib.figure.Figure at 0x15d75c710>"
      ]
     },
     "metadata": {},
     "output_type": "display_data"
    }
   ],
   "source": [
    "bombings_final.plot()"
   ]
  },
  {
   "cell_type": "code",
   "execution_count": null,
   "metadata": {},
   "outputs": [],
   "source": []
  },
  {
   "cell_type": "code",
   "execution_count": 426,
   "metadata": {
    "collapsed": true
   },
   "outputs": [],
   "source": [
    "def test_stationarity(timeseries):\n",
    "\n",
    "    #Determing rolling statistics\n",
    "    # rolmean = pd.rolling_mean(timeseries, window=12)\n",
    "    rolmean = timeseries.rolling(window=4,center=False).mean()\n",
    "    # rolstd = pd.rolling_std(timeseries, window=12)\n",
    "    rolstd = timeseries.rolling(window=4,center=False).std()\n",
    "    \n",
    "    #Plot rolling statistics:\n",
    "    fig = plt.figure(figsize=(12, 8))\n",
    "    orig = plt.plot(timeseries, color='blue',label='Original')\n",
    "    mean = plt.plot(rolmean, color='red', label='Rolling Mean')\n",
    "    std = plt.plot(rolstd, color='black', label = 'Rolling Std')\n",
    "    plt.legend(loc='best')\n",
    "    plt.title('Rolling Mean & Standard Deviation')\n",
    "    plt.show()\n",
    "    \n",
    "    #Perform Dickey-Fuller test:\n",
    "    print 'Results of Dickey-Fuller Test:'\n",
    "    dftest = adfuller(timeseries, autolag='AIC')\n",
    "    dfoutput = pd.Series(dftest[0:4], index=['Test Statistic','p-value','#Lags Used','Number of Observations Used'])\n",
    "    for key,value in dftest[4].items():\n",
    "        dfoutput['Critical Value (%s)'%key] = value\n",
    "    print dfoutput "
   ]
  },
  {
   "cell_type": "code",
   "execution_count": 427,
   "metadata": {},
   "outputs": [
    {
     "data": {
      "image/png": "[encoded data removed]",
      "text/plain": [
       "<matplotlib.figure.Figure at 0x15d8572d0>"
      ]
     },
     "metadata": {},
     "output_type": "display_data"
    },
    {
     "name": "stdout",
     "output_type": "stream",
     "text": [
      "Results of Dickey-Fuller Test:\n",
      "Test Statistic                 -0.236293\n",
      "p-value                         0.934055\n",
      "#Lags Used                      7.000000\n",
      "Number of Observations Used    37.000000\n",
      "Critical Value (5%)            -2.943539\n",
      "Critical Value (1%)            -3.620918\n",
      "Critical Value (10%)           -2.610400\n",
      "dtype: float64\n"
     ]
    }
   ],
   "source": [
    "test_stationarity(bombings_final)"
   ]
  },
  {
   "cell_type": "code",
   "execution_count": 428,
   "metadata": {
    "collapsed": true
   },
   "outputs": [],
   "source": [
    "# That's not very stationary - let's focus on just a few years around the year I'm trying to impute\n",
    "\n",
    "## Arima 2 .py"
   ]
  },
  {
   "cell_type": "code",
   "execution_count": null,
   "metadata": {},
   "outputs": [],
   "source": []
  },
  {
   "cell_type": "code",
   "execution_count": 429,
   "metadata": {
    "collapsed": true
   },
   "outputs": [
    {
     "data": {
      "text/plain": [
       "1970     333\n",
       "1971     238\n",
       "1972     186\n",
       "1973     149\n",
       "1974     284\n",
       "1975     370\n",
       "1976     419\n",
       "1977     635\n",
       "1978     644\n",
       "1979    1057\n",
       "1980     997\n",
       "1981    1082\n",
       "1982    1125\n",
       "1983    1246\n",
       "1984    1775\n",
       "1985    1482\n",
       "1986    1506\n",
       "1987    1476\n",
       "1988    1650\n",
       "1989    1797\n",
       "1990    1731\n",
       "1991    1988\n",
       "1992    1738\n",
       "1994    1153\n",
       "1995     791\n",
       "1996    1217\n",
       "1997    1123\n",
       "1998     504\n",
       "1999     652\n",
       "2000     904\n",
       "2001     802\n",
       "2002     721\n",
       "2003     678\n",
       "2004     655\n",
       "2005    1064\n",
       "2006    1502\n",
       "2007    1865\n",
       "2008    2642\n",
       "2009    2565\n",
       "2010    2507\n",
       "2011    2587\n",
       "2012    5080\n",
       "2013    6669\n",
       "2014    8759\n",
       "2015    7615\n",
       "Name: iyear, dtype: int64"
      ]
     },
     "execution_count": 429,
     "metadata": {},
     "output_type": "execute_result"
    }
   ],
   "source": [
    "bombings_final"
   ]
  },
  {
   "cell_type": "code",
   "execution_count": 430,
   "metadata": {
    "collapsed": true
   },
   "outputs": [],
   "source": [
    "bombings_final2 =bombings_final[8:23]"
   ]
  },
  {
   "cell_type": "code",
   "execution_count": 552,
   "metadata": {},
   "outputs": [
    {
     "data": {
      "text/plain": [
       "1978-01-01     644.0\n",
       "1979-01-01    1057.0\n",
       "1980-01-01     997.0\n",
       "1981-01-01    1082.0\n",
       "1982-01-01    1125.0\n",
       "1983-01-01    1246.0\n",
       "1984-01-01    1775.0\n",
       "1985-01-01    1482.0\n",
       "1986-01-01    1506.0\n",
       "1987-01-01    1476.0\n",
       "1988-01-01    1650.0\n",
       "1989-01-01    1797.0\n",
       "1990-01-01    1731.0\n",
       "1991-01-01    1988.0\n",
       "1992-01-01    1738.0\n",
       "Name: iyear, dtype: float64"
      ]
     },
     "execution_count": 552,
     "metadata": {},
     "output_type": "execute_result"
    }
   ],
   "source": [
    "bombings_final2"
   ]
  },
  {
   "cell_type": "code",
   "execution_count": 432,
   "metadata": {},
   "outputs": [
    {
     "data": {
      "image/png": "[encoded data removed]",
      "text/plain": [
       "<matplotlib.figure.Figure at 0x15d941290>"
      ]
     },
     "metadata": {},
     "output_type": "display_data"
    },
    {
     "name": "stdout",
     "output_type": "stream",
     "text": [
      "Results of Dickey-Fuller Test:\n",
      "Test Statistic                -1.262995\n",
      "p-value                        0.645928\n",
      "#Lags Used                     5.000000\n",
      "Number of Observations Used    9.000000\n",
      "Critical Value (5%)           -3.289881\n",
      "Critical Value (1%)           -4.473135\n",
      "Critical Value (10%)          -2.772382\n",
      "dtype: float64\n"
     ]
    }
   ],
   "source": [
    "test_stationarity(bombings_final2)"
   ]
  },
  {
   "cell_type": "code",
   "execution_count": 433,
   "metadata": {},
   "outputs": [
    {
     "data": {
      "text/plain": [
       "[<matplotlib.lines.Line2D at 0x143054f90>]"
      ]
     },
     "execution_count": 433,
     "metadata": {},
     "output_type": "execute_result"
    },
    {
     "data": {
      "image/png": "[encoded data removed]",
      "text/plain": [
       "<matplotlib.figure.Figure at 0x160833f10>"
      ]
     },
     "metadata": {},
     "output_type": "display_data"
    }
   ],
   "source": [
    "moving_avg = bombings_final2.rolling(window=4,center=False).mean()\n",
    "plt.plot(bombings_final2)\n",
    "plt.plot(moving_avg, color='red')"
   ]
  },
  {
   "cell_type": "markdown",
   "metadata": {},
   "source": [
    "## Let's just use the rolling mean"
   ]
  },
  {
   "cell_type": "code",
   "execution_count": 557,
   "metadata": {},
   "outputs": [
    {
     "name": "stderr",
     "output_type": "stream",
     "text": [
      "/anaconda/lib/python2.7/site-packages/ipykernel/__main__.py:1: FutureWarning: pd.rolling_mean is deprecated for Series and will be removed in a future version, replace with \n",
      "\tSeries.rolling(window=2,center=False).mean()\n",
      "  if __name__ == '__main__':\n"
     ]
    },
    {
     "data": {
      "text/plain": [
       "1970       NaN\n",
       "1971     285.5\n",
       "1972     212.0\n",
       "1973     167.5\n",
       "1974     216.5\n",
       "1975     327.0\n",
       "1976     394.5\n",
       "1977     527.0\n",
       "1978     639.5\n",
       "1979     850.5\n",
       "1980    1027.0\n",
       "1981    1039.5\n",
       "1982    1103.5\n",
       "1983    1185.5\n",
       "1984    1510.5\n",
       "1985    1628.5\n",
       "1986    1494.0\n",
       "1987    1491.0\n",
       "1988    1563.0\n",
       "1989    1723.5\n",
       "1990    1764.0\n",
       "1991    1859.5\n",
       "1992    1863.0\n",
       "1994    1445.5\n",
       "1995     972.0\n",
       "1996    1004.0\n",
       "1997    1170.0\n",
       "1998     813.5\n",
       "1999     578.0\n",
       "2000     778.0\n",
       "2001     853.0\n",
       "2002     761.5\n",
       "2003     699.5\n",
       "2004     666.5\n",
       "2005     859.5\n",
       "2006    1283.0\n",
       "2007    1683.5\n",
       "2008    2253.5\n",
       "2009    2603.5\n",
       "2010    2536.0\n",
       "2011    2547.0\n",
       "2012    3833.5\n",
       "2013    5874.5\n",
       "2014    7714.0\n",
       "2015    8187.0\n",
       "Name: iyear, dtype: float64"
      ]
     },
     "execution_count": 557,
     "metadata": {},
     "output_type": "execute_result"
    }
   ],
   "source": [
    "pd.rolling_mean(bombings_final, window=2)\n",
    "\n"
   ]
  },
  {
   "cell_type": "code",
   "execution_count": 558,
   "metadata": {
    "collapsed": true
   },
   "outputs": [],
   "source": [
    "# So if I average the rolling mean of 1992 and 1994 I can get an estimate for 1993"
   ]
  },
  {
   "cell_type": "code",
   "execution_count": 559,
   "metadata": {},
   "outputs": [
    {
     "data": {
      "text/plain": [
       "1654.25"
      ]
     },
     "execution_count": 559,
     "metadata": {},
     "output_type": "execute_result"
    }
   ],
   "source": [
    "(1863.+1445.5) / 2"
   ]
  },
  {
   "cell_type": "code",
   "execution_count": null,
   "metadata": {
    "collapsed": true
   },
   "outputs": [],
   "source": []
  },
  {
   "cell_type": "markdown",
   "metadata": {},
   "source": [
    "## Below here is my attempt at an ARIMA model, which did not work"
   ]
  },
  {
   "cell_type": "code",
   "execution_count": 434,
   "metadata": {},
   "outputs": [],
   "source": [
    "ts_moving_avg_diff = bombings_final2 - moving_avg"
   ]
  },
  {
   "cell_type": "code",
   "execution_count": 435,
   "metadata": {},
   "outputs": [
    {
     "data": {
      "text/plain": [
       "1978       NaN\n",
       "1979       NaN\n",
       "1980       NaN\n",
       "1981    137.00\n",
       "1982     59.75\n",
       "1983    133.50\n",
       "1984    468.00\n",
       "1985     75.00\n",
       "1986      3.75\n",
       "1987    -83.75\n",
       "1988    121.50\n",
       "1989    189.75\n",
       "1990     67.50\n",
       "1991    196.50\n",
       "1992    -75.50\n",
       "Name: iyear, dtype: float64"
      ]
     },
     "execution_count": 435,
     "metadata": {},
     "output_type": "execute_result"
    }
   ],
   "source": [
    "ts_moving_avg_diff"
   ]
  },
  {
   "cell_type": "code",
   "execution_count": 436,
   "metadata": {},
   "outputs": [],
   "source": [
    "ts_moving_avg_diff=ts_moving_avg_diff[3:]"
   ]
  },
  {
   "cell_type": "code",
   "execution_count": 437,
   "metadata": {},
   "outputs": [
    {
     "data": {
      "image/png": "[encoded data removed]",
      "text/plain": [
       "<matplotlib.figure.Figure at 0x16091e890>"
      ]
     },
     "metadata": {},
     "output_type": "display_data"
    },
    {
     "name": "stdout",
     "output_type": "stream",
     "text": [
      "Results of Dickey-Fuller Test:\n",
      "Test Statistic                -3.319105\n",
      "p-value                        0.014046\n",
      "#Lags Used                     4.000000\n",
      "Number of Observations Used    7.000000\n",
      "Critical Value (5%)           -3.477583\n",
      "Critical Value (1%)           -4.938690\n",
      "Critical Value (10%)          -2.843868\n",
      "dtype: float64\n"
     ]
    }
   ],
   "source": [
    "test_stationarity(ts_moving_avg_diff)"
   ]
  },
  {
   "cell_type": "code",
   "execution_count": 438,
   "metadata": {
    "collapsed": true
   },
   "outputs": [],
   "source": [
    "bombings_diff = bombings_final2 - bombings_final2.shift(1)"
   ]
  },
  {
   "cell_type": "code",
   "execution_count": 439,
   "metadata": {},
   "outputs": [
    {
     "data": {
      "image/png": "[encoded data removed]",
      "text/plain": [
       "<matplotlib.figure.Figure at 0x1608452d0>"
      ]
     },
     "metadata": {},
     "output_type": "display_data"
    },
    {
     "name": "stdout",
     "output_type": "stream",
     "text": [
      "Results of Dickey-Fuller Test:\n",
      "Test Statistic                -0.000000\n",
      "p-value                        0.958532\n",
      "#Lags Used                     6.000000\n",
      "Number of Observations Used    7.000000\n",
      "Critical Value (5%)           -3.477583\n",
      "Critical Value (1%)           -4.938690\n",
      "Critical Value (10%)          -2.843868\n",
      "dtype: float64\n"
     ]
    }
   ],
   "source": [
    "test_stationarity(bombings_diff.dropna(inplace=False))"
   ]
  },
  {
   "cell_type": "code",
   "execution_count": 440,
   "metadata": {
    "collapsed": true
   },
   "outputs": [],
   "source": [
    "# Ok, our p value is less than .05 so this looks stationary enough to use for the model.\n",
    "# Now that it's stationary I can look at any lagged values"
   ]
  },
  {
   "cell_type": "code",
   "execution_count": 441,
   "metadata": {
    "collapsed": true
   },
   "outputs": [],
   "source": [
    "from statsmodels.tsa.stattools import acf, pacf\n"
   ]
  },
  {
   "cell_type": "code",
   "execution_count": 442,
   "metadata": {},
   "outputs": [],
   "source": [
    "lag_acf = acf(ts_moving_avg_diff, nlags=5)\n",
    "lag_pacf = pacf(ts_moving_avg_diff, nlags=5, method='ols')"
   ]
  },
  {
   "cell_type": "code",
   "execution_count": 443,
   "metadata": {},
   "outputs": [
    {
     "data": {
      "image/png": "[encoded data removed]",
      "text/plain": [
       "<matplotlib.figure.Figure at 0x1445e7c50>"
      ]
     },
     "execution_count": 443,
     "metadata": {},
     "output_type": "execute_result"
    },
    {
     "data": {
      "image/png": "[encoded data removed]",
      "text/plain": [
       "<matplotlib.figure.Figure at 0x1487479d0>"
      ]
     },
     "metadata": {},
     "output_type": "display_data"
    },
    {
     "data": {
      "image/png": "[encoded data removed]",
      "text/plain": [
       "<matplotlib.figure.Figure at 0x1445e7c50>"
      ]
     },
     "metadata": {},
     "output_type": "display_data"
    }
   ],
   "source": [
    "from statsmodels.graphics.tsaplots import plot_acf, plot_pacf\n",
    "plot_acf(bombings_diff.dropna(inplace=False), lags = 7)\n",
    "plot_pacf(bombings_diff.dropna(inplace=False), lags = 7)"
   ]
  },
  {
   "cell_type": "code",
   "execution_count": null,
   "metadata": {
    "collapsed": true
   },
   "outputs": [],
   "source": []
  },
  {
   "cell_type": "code",
   "execution_count": null,
   "metadata": {
    "collapsed": true
   },
   "outputs": [],
   "source": []
  },
  {
   "cell_type": "code",
   "execution_count": 444,
   "metadata": {},
   "outputs": [
    {
     "data": {
      "text/plain": [
       "<matplotlib.text.Text at 0x158abce90>"
      ]
     },
     "execution_count": 444,
     "metadata": {},
     "output_type": "execute_result"
    },
    {
     "data": {
      "image/png": "[encoded data removed]",
      "text/plain": [
       "<matplotlib.figure.Figure at 0x158a9ffd0>"
      ]
     },
     "metadata": {},
     "output_type": "display_data"
    }
   ],
   "source": [
    "#Plot ACF: \n",
    "plt.subplot(121) \n",
    "plt.plot(lag_acf)\n",
    "plt.axhline(y=0,linestyle='--',color='gray')\n",
    "plt.axhline(y=-1.96/np.sqrt(len(ts_moving_avg_diff)),linestyle='--',color='gray')\n",
    "plt.axhline(y=1.96/np.sqrt(len(ts_moving_avg_diff)),linestyle='--',color='gray')\n",
    "plt.title('Autocorrelation Function')"
   ]
  },
  {
   "cell_type": "code",
   "execution_count": 445,
   "metadata": {},
   "outputs": [
    {
     "data": {
      "image/png": "[encoded data removed]",
      "text/plain": [
       "<matplotlib.figure.Figure at 0x158d098d0>"
      ]
     },
     "metadata": {},
     "output_type": "display_data"
    }
   ],
   "source": [
    "#Plot PACF:\n",
    "plt.subplot(122)\n",
    "plt.plot(lag_pacf)\n",
    "plt.axhline(y=0,linestyle='--',color='gray')\n",
    "plt.axhline(y=-1.96/np.sqrt(len(ts_moving_avg_diff)),linestyle='--',color='gray')\n",
    "plt.axhline(y=1.96/np.sqrt(len(ts_moving_avg_diff)),linestyle='--',color='gray')\n",
    "plt.title('Partial Autocorrelation Function')\n",
    "plt.tight_layout()"
   ]
  },
  {
   "cell_type": "code",
   "execution_count": 446,
   "metadata": {},
   "outputs": [
    {
     "data": {
      "text/plain": [
       "<matplotlib.axes._subplots.AxesSubplot at 0x149401e50>"
      ]
     },
     "execution_count": 446,
     "metadata": {},
     "output_type": "execute_result"
    },
    {
     "data": {
      "image/png": "[encoded data removed]",
      "text/plain": [
       "<matplotlib.figure.Figure at 0x148428750>"
      ]
     },
     "metadata": {},
     "output_type": "display_data"
    }
   ],
   "source": [
    "from pandas.tools.plotting import autocorrelation_plot\n",
    "\n",
    "autocorrelation_plot(ts_moving_avg_diff)"
   ]
  },
  {
   "cell_type": "code",
   "execution_count": 447,
   "metadata": {
    "collapsed": true
   },
   "outputs": [],
   "source": [
    "from statsmodels.tsa.arima_model import ARIMA\n"
   ]
  },
  {
   "cell_type": "code",
   "execution_count": 454,
   "metadata": {},
   "outputs": [],
   "source": [
    "bombings_final2.index = pd.to_datetime(bombings_final2.index, format='%Y')"
   ]
  },
  {
   "cell_type": "code",
   "execution_count": 455,
   "metadata": {},
   "outputs": [],
   "source": [
    "bombings_final2=bombings_final2.astype(float)"
   ]
  },
  {
   "cell_type": "code",
   "execution_count": 456,
   "metadata": {},
   "outputs": [
    {
     "data": {
      "text/plain": [
       "1978-01-01     644.0\n",
       "1979-01-01    1057.0\n",
       "1980-01-01     997.0\n",
       "1981-01-01    1082.0\n",
       "1982-01-01    1125.0\n",
       "1983-01-01    1246.0\n",
       "1984-01-01    1775.0\n",
       "1985-01-01    1482.0\n",
       "1986-01-01    1506.0\n",
       "1987-01-01    1476.0\n",
       "1988-01-01    1650.0\n",
       "1989-01-01    1797.0\n",
       "1990-01-01    1731.0\n",
       "1991-01-01    1988.0\n",
       "1992-01-01    1738.0\n",
       "Name: iyear, dtype: float64"
      ]
     },
     "execution_count": 456,
     "metadata": {},
     "output_type": "execute_result"
    }
   ],
   "source": [
    "bombings_final2"
   ]
  },
  {
   "cell_type": "code",
   "execution_count": 474,
   "metadata": {},
   "outputs": [
    {
     "data": {
      "text/plain": [
       "False"
      ]
     },
     "execution_count": 474,
     "metadata": {},
     "output_type": "execute_result"
    }
   ],
   "source": [
    "np.isnan(bombings_final2).any()"
   ]
  },
  {
   "cell_type": "code",
   "execution_count": 475,
   "metadata": {},
   "outputs": [
    {
     "data": {
      "text/plain": [
       "False"
      ]
     },
     "execution_count": 475,
     "metadata": {},
     "output_type": "execute_result"
    }
   ],
   "source": [
    "np.isinf(bombings_final2).any()\n"
   ]
  },
  {
   "cell_type": "code",
   "execution_count": 482,
   "metadata": {},
   "outputs": [],
   "source": [
    "model = ARIMA((bombings_final2), order=(0, 1, 5))\n",
    "results_AR = model.fit(disp=-1)  \n",
    "# plt.plot(bombings_diff.dropna(inplace=False))\n",
    "# plt.plot(results_AR.fittedvalues, color='red')\n",
    "# plt.title('RSS: %.4f'% sum((results_AR.fittedvalues-bombings_diff.dropna(inplace=False)))**2)"
   ]
  },
  {
   "cell_type": "code",
   "execution_count": 483,
   "metadata": {},
   "outputs": [
    {
     "ename": "LinAlgError",
     "evalue": "Array must not contain infs or NaNs",
     "output_type": "error",
     "traceback": [
      "\u001b[0;31m---------------------------------------------------------------------------\u001b[0m",
      "\u001b[0;31mLinAlgError\u001b[0m                               Traceback (most recent call last)",
      "\u001b[0;32m<ipython-input-483-89c2b0e2d08c>\u001b[0m in \u001b[0;36m<module>\u001b[0;34m()\u001b[0m\n\u001b[0;32m----> 1\u001b[0;31m \u001b[0mresults_AR\u001b[0m\u001b[0;34m.\u001b[0m\u001b[0msummary\u001b[0m\u001b[0;34m(\u001b[0m\u001b[0;34m)\u001b[0m\u001b[0;34m\u001b[0m\u001b[0m\n\u001b[0m",
      "\u001b[0;32m//anaconda/lib/python2.7/site-packages/statsmodels/tsa/arima_model.pyc\u001b[0m in \u001b[0;36msummary\u001b[0;34m(self, alpha)\u001b[0m\n\u001b[1;32m   1636\u001b[0m             \u001b[0mmastubs\u001b[0m \u001b[0;34m=\u001b[0m \u001b[0;34m[\u001b[0m\u001b[0;34m\"MA.%d\"\u001b[0m \u001b[0;34m%\u001b[0m \u001b[0mi\u001b[0m \u001b[0;32mfor\u001b[0m \u001b[0mi\u001b[0m \u001b[0;32min\u001b[0m \u001b[0mrange\u001b[0m\u001b[0;34m(\u001b[0m\u001b[0;36m1\u001b[0m\u001b[0;34m,\u001b[0m \u001b[0mk_ma\u001b[0m \u001b[0;34m+\u001b[0m \u001b[0;36m1\u001b[0m\u001b[0;34m)\u001b[0m\u001b[0;34m]\u001b[0m\u001b[0;34m\u001b[0m\u001b[0m\n\u001b[1;32m   1637\u001b[0m             \u001b[0mstubs\u001b[0m \u001b[0;34m=\u001b[0m \u001b[0mmastubs\u001b[0m\u001b[0;34m\u001b[0m\u001b[0m\n\u001b[0;32m-> 1638\u001b[0;31m             \u001b[0mroots\u001b[0m \u001b[0;34m=\u001b[0m \u001b[0mself\u001b[0m\u001b[0;34m.\u001b[0m\u001b[0mmaroots\u001b[0m\u001b[0;34m\u001b[0m\u001b[0m\n\u001b[0m\u001b[1;32m   1639\u001b[0m             \u001b[0mfreq\u001b[0m \u001b[0;34m=\u001b[0m \u001b[0mself\u001b[0m\u001b[0;34m.\u001b[0m\u001b[0mmafreq\u001b[0m\u001b[0;34m\u001b[0m\u001b[0m\n\u001b[1;32m   1640\u001b[0m         \u001b[0;32melif\u001b[0m \u001b[0mk_ar\u001b[0m\u001b[0;34m:\u001b[0m\u001b[0;34m\u001b[0m\u001b[0m\n",
      "\u001b[0;32m//anaconda/lib/python2.7/site-packages/statsmodels/tools/decorators.pyc\u001b[0m in \u001b[0;36m__get__\u001b[0;34m(self, obj, type)\u001b[0m\n\u001b[1;32m     95\u001b[0m         \u001b[0;32mif\u001b[0m \u001b[0m_cachedval\u001b[0m \u001b[0;32mis\u001b[0m \u001b[0mNone\u001b[0m\u001b[0;34m:\u001b[0m\u001b[0;34m\u001b[0m\u001b[0m\n\u001b[1;32m     96\u001b[0m             \u001b[0;31m# Call the \"fget\" function\u001b[0m\u001b[0;34m\u001b[0m\u001b[0;34m\u001b[0m\u001b[0m\n\u001b[0;32m---> 97\u001b[0;31m             \u001b[0m_cachedval\u001b[0m \u001b[0;34m=\u001b[0m \u001b[0mself\u001b[0m\u001b[0;34m.\u001b[0m\u001b[0mfget\u001b[0m\u001b[0;34m(\u001b[0m\u001b[0mobj\u001b[0m\u001b[0;34m)\u001b[0m\u001b[0;34m\u001b[0m\u001b[0m\n\u001b[0m\u001b[1;32m     98\u001b[0m             \u001b[0;31m# Set the attribute in obj\u001b[0m\u001b[0;34m\u001b[0m\u001b[0;34m\u001b[0m\u001b[0m\n\u001b[1;32m     99\u001b[0m             \u001b[0;31m# print(\"Setting %s in cache to %s\" % (name, _cachedval))\u001b[0m\u001b[0;34m\u001b[0m\u001b[0;34m\u001b[0m\u001b[0m\n",
      "\u001b[0;32m//anaconda/lib/python2.7/site-packages/statsmodels/tsa/arima_model.pyc\u001b[0m in \u001b[0;36mmaroots\u001b[0;34m(self)\u001b[0m\n\u001b[1;32m   1390\u001b[0m     \u001b[0;34m@\u001b[0m\u001b[0mcache_readonly\u001b[0m\u001b[0;34m\u001b[0m\u001b[0m\n\u001b[1;32m   1391\u001b[0m     \u001b[0;32mdef\u001b[0m \u001b[0mmaroots\u001b[0m\u001b[0;34m(\u001b[0m\u001b[0mself\u001b[0m\u001b[0;34m)\u001b[0m\u001b[0;34m:\u001b[0m\u001b[0;34m\u001b[0m\u001b[0m\n\u001b[0;32m-> 1392\u001b[0;31m         \u001b[0;32mreturn\u001b[0m \u001b[0mnp\u001b[0m\u001b[0;34m.\u001b[0m\u001b[0mroots\u001b[0m\u001b[0;34m(\u001b[0m\u001b[0mnp\u001b[0m\u001b[0;34m.\u001b[0m\u001b[0mr_\u001b[0m\u001b[0;34m[\u001b[0m\u001b[0;36m1\u001b[0m\u001b[0;34m,\u001b[0m \u001b[0mself\u001b[0m\u001b[0;34m.\u001b[0m\u001b[0mmaparams\u001b[0m\u001b[0;34m]\u001b[0m\u001b[0;34m)\u001b[0m\u001b[0;34m**\u001b[0m\u001b[0;34m-\u001b[0m\u001b[0;36m1\u001b[0m\u001b[0;34m\u001b[0m\u001b[0m\n\u001b[0m\u001b[1;32m   1393\u001b[0m \u001b[0;34m\u001b[0m\u001b[0m\n\u001b[1;32m   1394\u001b[0m     \u001b[0;34m@\u001b[0m\u001b[0mcache_readonly\u001b[0m\u001b[0;34m\u001b[0m\u001b[0m\n",
      "\u001b[0;32m//anaconda/lib/python2.7/site-packages/numpy/lib/polynomial.pyc\u001b[0m in \u001b[0;36mroots\u001b[0;34m(p)\u001b[0m\n\u001b[1;32m    227\u001b[0m         \u001b[0mA\u001b[0m \u001b[0;34m=\u001b[0m \u001b[0mdiag\u001b[0m\u001b[0;34m(\u001b[0m\u001b[0mNX\u001b[0m\u001b[0;34m.\u001b[0m\u001b[0mones\u001b[0m\u001b[0;34m(\u001b[0m\u001b[0;34m(\u001b[0m\u001b[0mN\u001b[0m\u001b[0;34m-\u001b[0m\u001b[0;36m2\u001b[0m\u001b[0;34m,\u001b[0m\u001b[0;34m)\u001b[0m\u001b[0;34m,\u001b[0m \u001b[0mp\u001b[0m\u001b[0;34m.\u001b[0m\u001b[0mdtype\u001b[0m\u001b[0;34m)\u001b[0m\u001b[0;34m,\u001b[0m \u001b[0;34m-\u001b[0m\u001b[0;36m1\u001b[0m\u001b[0;34m)\u001b[0m\u001b[0;34m\u001b[0m\u001b[0m\n\u001b[1;32m    228\u001b[0m         \u001b[0mA\u001b[0m\u001b[0;34m[\u001b[0m\u001b[0;36m0\u001b[0m\u001b[0;34m,\u001b[0m\u001b[0;34m:\u001b[0m\u001b[0;34m]\u001b[0m \u001b[0;34m=\u001b[0m \u001b[0;34m-\u001b[0m\u001b[0mp\u001b[0m\u001b[0;34m[\u001b[0m\u001b[0;36m1\u001b[0m\u001b[0;34m:\u001b[0m\u001b[0;34m]\u001b[0m \u001b[0;34m/\u001b[0m \u001b[0mp\u001b[0m\u001b[0;34m[\u001b[0m\u001b[0;36m0\u001b[0m\u001b[0;34m]\u001b[0m\u001b[0;34m\u001b[0m\u001b[0m\n\u001b[0;32m--> 229\u001b[0;31m         \u001b[0mroots\u001b[0m \u001b[0;34m=\u001b[0m \u001b[0meigvals\u001b[0m\u001b[0;34m(\u001b[0m\u001b[0mA\u001b[0m\u001b[0;34m)\u001b[0m\u001b[0;34m\u001b[0m\u001b[0m\n\u001b[0m\u001b[1;32m    230\u001b[0m     \u001b[0;32melse\u001b[0m\u001b[0;34m:\u001b[0m\u001b[0;34m\u001b[0m\u001b[0m\n\u001b[1;32m    231\u001b[0m         \u001b[0mroots\u001b[0m \u001b[0;34m=\u001b[0m \u001b[0mNX\u001b[0m\u001b[0;34m.\u001b[0m\u001b[0marray\u001b[0m\u001b[0;34m(\u001b[0m\u001b[0;34m[\u001b[0m\u001b[0;34m]\u001b[0m\u001b[0;34m)\u001b[0m\u001b[0;34m\u001b[0m\u001b[0m\n",
      "\u001b[0;32m//anaconda/lib/python2.7/site-packages/numpy/linalg/linalg.pyc\u001b[0m in \u001b[0;36meigvals\u001b[0;34m(a)\u001b[0m\n\u001b[1;32m    901\u001b[0m     \u001b[0m_assertRankAtLeast2\u001b[0m\u001b[0;34m(\u001b[0m\u001b[0ma\u001b[0m\u001b[0;34m)\u001b[0m\u001b[0;34m\u001b[0m\u001b[0m\n\u001b[1;32m    902\u001b[0m     \u001b[0m_assertNdSquareness\u001b[0m\u001b[0;34m(\u001b[0m\u001b[0ma\u001b[0m\u001b[0;34m)\u001b[0m\u001b[0;34m\u001b[0m\u001b[0m\n\u001b[0;32m--> 903\u001b[0;31m     \u001b[0m_assertFinite\u001b[0m\u001b[0;34m(\u001b[0m\u001b[0ma\u001b[0m\u001b[0;34m)\u001b[0m\u001b[0;34m\u001b[0m\u001b[0m\n\u001b[0m\u001b[1;32m    904\u001b[0m     \u001b[0mt\u001b[0m\u001b[0;34m,\u001b[0m \u001b[0mresult_t\u001b[0m \u001b[0;34m=\u001b[0m \u001b[0m_commonType\u001b[0m\u001b[0;34m(\u001b[0m\u001b[0ma\u001b[0m\u001b[0;34m)\u001b[0m\u001b[0;34m\u001b[0m\u001b[0m\n\u001b[1;32m    905\u001b[0m \u001b[0;34m\u001b[0m\u001b[0m\n",
      "\u001b[0;32m//anaconda/lib/python2.7/site-packages/numpy/linalg/linalg.pyc\u001b[0m in \u001b[0;36m_assertFinite\u001b[0;34m(*arrays)\u001b[0m\n\u001b[1;32m    215\u001b[0m     \u001b[0;32mfor\u001b[0m \u001b[0ma\u001b[0m \u001b[0;32min\u001b[0m \u001b[0marrays\u001b[0m\u001b[0;34m:\u001b[0m\u001b[0;34m\u001b[0m\u001b[0m\n\u001b[1;32m    216\u001b[0m         \u001b[0;32mif\u001b[0m \u001b[0;32mnot\u001b[0m \u001b[0;34m(\u001b[0m\u001b[0misfinite\u001b[0m\u001b[0;34m(\u001b[0m\u001b[0ma\u001b[0m\u001b[0;34m)\u001b[0m\u001b[0;34m.\u001b[0m\u001b[0mall\u001b[0m\u001b[0;34m(\u001b[0m\u001b[0;34m)\u001b[0m\u001b[0;34m)\u001b[0m\u001b[0;34m:\u001b[0m\u001b[0;34m\u001b[0m\u001b[0m\n\u001b[0;32m--> 217\u001b[0;31m             \u001b[0;32mraise\u001b[0m \u001b[0mLinAlgError\u001b[0m\u001b[0;34m(\u001b[0m\u001b[0;34m\"Array must not contain infs or NaNs\"\u001b[0m\u001b[0;34m)\u001b[0m\u001b[0;34m\u001b[0m\u001b[0m\n\u001b[0m\u001b[1;32m    218\u001b[0m \u001b[0;34m\u001b[0m\u001b[0m\n\u001b[1;32m    219\u001b[0m \u001b[0;32mdef\u001b[0m \u001b[0m_assertNoEmpty2d\u001b[0m\u001b[0;34m(\u001b[0m\u001b[0;34m*\u001b[0m\u001b[0marrays\u001b[0m\u001b[0;34m)\u001b[0m\u001b[0;34m:\u001b[0m\u001b[0;34m\u001b[0m\u001b[0m\n",
      "\u001b[0;31mLinAlgError\u001b[0m: Array must not contain infs or NaNs"
     ]
    }
   ],
   "source": [
    "results_AR.summary()"
   ]
  },
  {
   "cell_type": "code",
   "execution_count": 484,
   "metadata": {},
   "outputs": [],
   "source": [
    "AR1_pred = results_AR.predict(start='1986-01-01', end = '1994-01-01')"
   ]
  },
  {
   "cell_type": "code",
   "execution_count": 485,
   "metadata": {},
   "outputs": [
    {
     "data": {
      "text/plain": [
       "1986-01-01          NaN\n",
       "1987-01-01          NaN\n",
       "1988-01-01          NaN\n",
       "1989-01-01          NaN\n",
       "1990-01-01          NaN\n",
       "1991-01-01          NaN\n",
       "1992-01-01          NaN\n",
       "1993-01-01          NaN\n",
       "1994-01-01    104.20942\n",
       "Freq: AS-JAN, dtype: float64"
      ]
     },
     "execution_count": 485,
     "metadata": {},
     "output_type": "execute_result"
    }
   ],
   "source": [
    "AR1_pred"
   ]
  },
  {
   "cell_type": "code",
   "execution_count": null,
   "metadata": {
    "collapsed": true
   },
   "outputs": [],
   "source": []
  },
  {
   "cell_type": "code",
   "execution_count": null,
   "metadata": {
    "collapsed": true
   },
   "outputs": [],
   "source": []
  },
  {
   "cell_type": "code",
   "execution_count": null,
   "metadata": {
    "collapsed": true
   },
   "outputs": [],
   "source": []
  },
  {
   "cell_type": "code",
   "execution_count": null,
   "metadata": {
    "collapsed": true
   },
   "outputs": [],
   "source": []
  }
 ],
 "metadata": {
  "kernelspec": {
   "display_name": "Python 2",
   "language": "python",
   "name": "python2"
  },
  "language_info": {
   "codemirror_mode": {
    "name": "ipython",
    "version": 2
   },
   "file_extension": ".py",
   "mimetype": "text/x-python",
   "name": "python",
   "nbconvert_exporter": "python",
   "pygments_lexer": "ipython2",
   "version": "2.7.13"
  }
 },
 "nbformat": 4,
 "nbformat_minor": 2
}
